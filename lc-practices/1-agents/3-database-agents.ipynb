{
 "cells": [
  {
   "cell_type": "markdown",
   "id": "deb49828",
   "metadata": {},
   "source": [
    "### LangChain - Database Agents"
   ]
  },
  {
   "cell_type": "code",
   "execution_count": 1,
   "id": "cbb2e822",
   "metadata": {},
   "outputs": [],
   "source": [
    "import os\n",
    "\n",
    "from dotenv import load_dotenv\n",
    "from langchain_openai import ChatOpenAI\n",
    "from langchain_community.utilities import SQLDatabase"
   ]
  },
  {
   "cell_type": "code",
   "execution_count": 2,
   "id": "c4be2f9e",
   "metadata": {},
   "outputs": [],
   "source": [
    "load_dotenv()\n",
    "\n",
    "openai_api_key = os.environ[\"OPENAI_API_KEY\"]\n",
    "model_name = \"gpt-3.5-turbo\"\n",
    "temperature = 0.1\n",
    "max_tokens = 2000\n",
    "\n",
    "llm = ChatOpenAI(\n",
    "    model = model_name,\n",
    "    temperature=temperature,\n",
    "    max_tokens=max_tokens,\n",
    "    openai_api_key = openai_api_key\n",
    ")"
   ]
  },
  {
   "cell_type": "code",
   "execution_count": 3,
   "id": "93103272",
   "metadata": {},
   "outputs": [],
   "source": [
    "db_file_path = \"./chinook.db\"\n",
    "db = SQLDatabase.from_uri(f\"sqlite:///{db_file_path}\")"
   ]
  },
  {
   "cell_type": "code",
   "execution_count": null,
   "id": "c4c3f165",
   "metadata": {},
   "outputs": [],
   "source": [
    "print(db.dialect)\n",
    "print(db.get_usable_table_names())"
   ]
  },
  {
   "cell_type": "code",
   "execution_count": null,
   "id": "be9e10fc",
   "metadata": {},
   "outputs": [],
   "source": [
    "query = \"SELECT * FROM Artist LIMIT 10;\"\n",
    "\n",
    "db.run(query)"
   ]
  },
  {
   "cell_type": "code",
   "execution_count": null,
   "id": "4fdac66d",
   "metadata": {},
   "outputs": [],
   "source": [
    "from langchain.chains import create_sql_query_chain"
   ]
  },
  {
   "cell_type": "code",
   "execution_count": null,
   "id": "7791b62e",
   "metadata": {},
   "outputs": [],
   "source": [
    "chain = create_sql_query_chain(llm, db)\n",
    "\n",
    "response = chain.invoke({\n",
    "    \"question\": \"how many employees are working in the organization?\"\n",
    "})"
   ]
  },
  {
   "cell_type": "code",
   "execution_count": null,
   "id": "2dbeb82b",
   "metadata": {},
   "outputs": [],
   "source": [
    "response"
   ]
  },
  {
   "cell_type": "code",
   "execution_count": null,
   "id": "99bf1624",
   "metadata": {},
   "outputs": [],
   "source": [
    "db.run(response)"
   ]
  },
  {
   "cell_type": "code",
   "execution_count": null,
   "id": "5d94d2b0",
   "metadata": {},
   "outputs": [],
   "source": [
    "from langchain_community.tools.sql_database.tool import QuerySQLDataBaseTool\n",
    "from langchain_core.tools import tool\n",
    "\n",
    "@tool\n",
    "def parse(query_string: str) -> str:\n",
    "    \"\"\"\n",
    "    Parses Generated SQL Statement\n",
    "    \"\"\"\n",
    "    \n",
    "    splitted = query_string.split(\":\")\n",
    "    \n",
    "    if(len(splitted) >= 2):\n",
    "        query = splitted[1]\n",
    "    else:\n",
    "        query = query_string\n",
    "    \n",
    "    return query\n",
    "  "
   ]
  },
  {
   "cell_type": "code",
   "execution_count": null,
   "id": "dada603d",
   "metadata": {},
   "outputs": [],
   "source": [
    "query = \"\"\"\n",
    "QUERY: SELECT COUNT(\"EmployeeId\") AS \"TotalEmployees\"\n",
    "FROM \"Employee\"\n",
    "\"\"\"\n",
    "\n",
    "print(parse(query))\n"
   ]
  },
  {
   "cell_type": "code",
   "execution_count": null,
   "id": "e32e91f0",
   "metadata": {},
   "outputs": [],
   "source": [
    "query = \"\"\"\n",
    "SELECT COUNT(\"EmployeeId\") AS \"TotalEmployees\"\n",
    "FROM \"Employee\"\n",
    "\"\"\"\n",
    "\n",
    "print(parse(query))\n"
   ]
  },
  {
   "cell_type": "code",
   "execution_count": null,
   "id": "fde0ac99",
   "metadata": {},
   "outputs": [],
   "source": [
    "execute_query = QuerySQLDataBaseTool(db = db)\n",
    "write_query = create_sql_query_chain(llm, db)\n",
    "\n",
    "chain = write_query | parse | execute_query"
   ]
  },
  {
   "cell_type": "code",
   "execution_count": null,
   "id": "e89c140a",
   "metadata": {},
   "outputs": [],
   "source": [
    "response = chain.invoke({\n",
    "    \"question\": \"How many employees are working in the organization currently?\"\n",
    "})\n",
    "\n",
    "print(response)\n"
   ]
  },
  {
   "cell_type": "code",
   "execution_count": null,
   "id": "4f1cc132",
   "metadata": {},
   "outputs": [],
   "source": [
    "# response = chain.invoke({\n",
    "#     \"question\": \"how many species of animals are there in the zoo?\"\n",
    "# })\n",
    "\n",
    "# print(response)\n"
   ]
  },
  {
   "cell_type": "code",
   "execution_count": null,
   "id": "d0936f45",
   "metadata": {},
   "outputs": [],
   "source": [
    "# chain = create_sql_query_chain(llm, db)\n",
    "\n",
    "# response = chain.invoke({\n",
    "#     \"question\": \"how many species of animals are there in the zoo?\"\n",
    "# })\n",
    "\n",
    "# response"
   ]
  },
  {
   "cell_type": "code",
   "execution_count": null,
   "id": "54137ae1",
   "metadata": {},
   "outputs": [],
   "source": [
    "from langchain_core.prompts import PromptTemplate\n",
    "from langchain_core.runnables import RunnablePassthrough\n",
    "from langchain_core.output_parsers import StrOutputParser\n",
    "from operator import itemgetter\n",
    "\n",
    "answer_prompt = PromptTemplate.from_template(\n",
    "    \"\"\"\n",
    "    Given the following user question, corresponding SQL query, and SQL result, answer the user question.\n",
    "    \n",
    "    Question: {question}\n",
    "    SQL Query: {query}\n",
    "    Result: {result}\n",
    "    Answer:\n",
    "    \"\"\"\n",
    ")"
   ]
  },
  {
   "cell_type": "code",
   "execution_count": null,
   "id": "4065e999",
   "metadata": {},
   "outputs": [],
   "source": [
    "new_chain = RunnablePassthrough.assign(query = write_query) \\\n",
    "        .assign(result = itemgetter(\"query\") | parse | execute_query) | \\\n",
    "        answer_prompt | llm | StrOutputParser()"
   ]
  },
  {
   "cell_type": "code",
   "execution_count": null,
   "id": "c14a4967",
   "metadata": {},
   "outputs": [],
   "source": [
    "question = \"How many employees are working in the organization currently?\"\n",
    "\n",
    "response = new_chain.invoke({\n",
    "    \"question\": question\n",
    "})\n",
    "\n",
    "response\n"
   ]
  },
  {
   "cell_type": "code",
   "execution_count": null,
   "id": "17655a20",
   "metadata": {},
   "outputs": [],
   "source": [
    "chain = create_sql_query_chain(llm, db)\n",
    "\n",
    "response = chain.invoke({\n",
    "    \"question\": \"which country's customers have spent the most?\"\n",
    "})\n",
    "\n",
    "response"
   ]
  },
  {
   "cell_type": "code",
   "execution_count": null,
   "id": "02fd8ccc",
   "metadata": {},
   "outputs": [],
   "source": [
    "question = \"which country's customers have spent the most?\"\n",
    "\n",
    "response = new_chain.invoke({\n",
    "    \"question\": question\n",
    "})\n",
    "\n",
    "print(response)"
   ]
  },
  {
   "cell_type": "code",
   "execution_count": 4,
   "id": "243d0ebd",
   "metadata": {},
   "outputs": [],
   "source": [
    "from langchain_community.agent_toolkits import SQLDatabaseToolkit\n",
    "\n",
    "toolkit = SQLDatabaseToolkit(db = db, llm = llm)\n",
    "\n",
    "tools = toolkit.get_tools()"
   ]
  },
  {
   "cell_type": "code",
   "execution_count": null,
   "id": "4316fcae",
   "metadata": {},
   "outputs": [],
   "source": [
    "tools"
   ]
  },
  {
   "cell_type": "code",
   "execution_count": 5,
   "id": "8a6cba10",
   "metadata": {},
   "outputs": [],
   "source": [
    "from langgraph.prebuilt import create_react_agent\n",
    "from langchain_core.messages import HumanMessage, SystemMessage\n",
    "\n",
    "SQL_PREFIX=\"\"\"\n",
    "You are an agent designed to interact with a SQL database.\n",
    "Given an input question, create a syntactically correct SQLite query to run, then look at the results of the query and return the answer.\n",
    "Unless the user specifies a specific number of examples they wish to obtain, always limit your query to at most 5 results.\n",
    "You can order the results by a relevant column to return the most interesting examples in the database.\n",
    "Never query for all the columns from a specific table, only ask for the relevant columns given the question.\n",
    "You have access to tools for interacting with the database.\n",
    "Only use the below tools. Only use the information returned by the below tools to construct your final answer.\n",
    "You MUST double check your query before executing it. If you get an error while executing a query, rewrite the query and try again.\n",
    "\n",
    "DO NOT make any DML statements (INSERT, UPDATE, DELETE, DROP etc.) to the database.\n",
    "\n",
    "To start you should ALWAYS look at the tables in the database to see what you can query.\n",
    "Do NOT skip this step.\n",
    "Then you should query the schema of the most relevant tables.\n",
    "\"\"\"\n",
    "\n",
    "system_message = SystemMessage(content=SQL_PREFIX)\n",
    "\n",
    "agent_executor = create_react_agent(\n",
    "    llm,\n",
    "    tools = tools,\n",
    "    state_modifier = system_message\n",
    ")"
   ]
  },
  {
   "cell_type": "code",
   "execution_count": 6,
   "id": "19271d9f",
   "metadata": {},
   "outputs": [
    {
     "name": "stdout",
     "output_type": "stream",
     "text": [
      "{'agent': {'messages': [AIMessage(content='', additional_kwargs={'tool_calls': [{'id': 'call_8ppsWYohs1E1D3t5gDuA8mFd', 'function': {'arguments': '{\"query\":\"SELECT c.Country, SUM(i.Total) AS Total_Spent FROM customers c JOIN invoices i ON c.CustomerId = i.CustomerId GROUP BY c.Country ORDER BY Total_Spent DESC LIMIT 1\"}', 'name': 'sql_db_query'}, 'type': 'function'}], 'refusal': None}, response_metadata={'token_usage': {'completion_tokens': 53, 'prompt_tokens': 559, 'total_tokens': 612, 'completion_tokens_details': {'accepted_prediction_tokens': 0, 'audio_tokens': 0, 'reasoning_tokens': 0, 'rejected_prediction_tokens': 0}, 'prompt_tokens_details': {'audio_tokens': 0, 'cached_tokens': 0}}, 'model_name': 'gpt-3.5-turbo-0125', 'system_fingerprint': None, 'id': 'chatcmpl-BoWKJChWbCm8BX5Vqw8GxabInGwTk', 'service_tier': 'default', 'finish_reason': 'tool_calls', 'logprobs': None}, id='run--9d181847-7d48-4fff-8f99-7a73b9fefc31-0', tool_calls=[{'name': 'sql_db_query', 'args': {'query': 'SELECT c.Country, SUM(i.Total) AS Total_Spent FROM customers c JOIN invoices i ON c.CustomerId = i.CustomerId GROUP BY c.Country ORDER BY Total_Spent DESC LIMIT 1'}, 'id': 'call_8ppsWYohs1E1D3t5gDuA8mFd', 'type': 'tool_call'}], usage_metadata={'input_tokens': 559, 'output_tokens': 53, 'total_tokens': 612, 'input_token_details': {'audio': 0, 'cache_read': 0}, 'output_token_details': {'audio': 0, 'reasoning': 0}})]}}\n",
      "***********\n",
      "{'tools': {'messages': [ToolMessage(content='Error: (sqlite3.OperationalError) no such table: customers\\n[SQL: SELECT c.Country, SUM(i.Total) AS Total_Spent FROM customers c JOIN invoices i ON c.CustomerId = i.CustomerId GROUP BY c.Country ORDER BY Total_Spent DESC LIMIT 1]\\n(Background on this error at: https://sqlalche.me/e/20/e3q8)', name='sql_db_query', id='7d6f782e-21e0-4edb-ae92-617916b1e1a1', tool_call_id='call_8ppsWYohs1E1D3t5gDuA8mFd')]}}\n",
      "***********\n",
      "{'agent': {'messages': [AIMessage(content='', additional_kwargs={'tool_calls': [{'id': 'call_1BX90rBw9A0LpmBPvvRwaJe7', 'function': {'arguments': '{}', 'name': 'sql_db_list_tables'}, 'type': 'function'}], 'refusal': None}, response_metadata={'token_usage': {'completion_tokens': 12, 'prompt_tokens': 701, 'total_tokens': 713, 'completion_tokens_details': {'accepted_prediction_tokens': 0, 'audio_tokens': 0, 'reasoning_tokens': 0, 'rejected_prediction_tokens': 0}, 'prompt_tokens_details': {'audio_tokens': 0, 'cached_tokens': 0}}, 'model_name': 'gpt-3.5-turbo-0125', 'system_fingerprint': None, 'id': 'chatcmpl-BoWKLjxnU34VZRGVVYPaQ3YVEUII4', 'service_tier': 'default', 'finish_reason': 'tool_calls', 'logprobs': None}, id='run--85e58c8d-ff61-4e89-a060-7e71de5d8be2-0', tool_calls=[{'name': 'sql_db_list_tables', 'args': {}, 'id': 'call_1BX90rBw9A0LpmBPvvRwaJe7', 'type': 'tool_call'}], usage_metadata={'input_tokens': 701, 'output_tokens': 12, 'total_tokens': 713, 'input_token_details': {'audio': 0, 'cache_read': 0}, 'output_token_details': {'audio': 0, 'reasoning': 0}})]}}\n",
      "***********\n",
      "{'tools': {'messages': [ToolMessage(content='Album, Artist, Customer, Employee, Genre, Invoice, InvoiceLine, MediaType, Playlist, PlaylistTrack, Track', name='sql_db_list_tables', id='dfb49493-7baa-4ec2-8dfb-2eeae8c931bb', tool_call_id='call_1BX90rBw9A0LpmBPvvRwaJe7')]}}\n",
      "***********\n",
      "{'agent': {'messages': [AIMessage(content='', additional_kwargs={'tool_calls': [{'id': 'call_KXfMuWLR6KqbZ7wX5aZzbRTY', 'function': {'arguments': '{\"query\":\"SELECT c.Country, SUM(i.Total) AS Total_Spent FROM Customer c JOIN Invoice i ON c.CustomerId = i.CustomerId GROUP BY c.Country ORDER BY Total_Spent DESC LIMIT 1\"}', 'name': 'sql_db_query'}, 'type': 'function'}], 'refusal': None}, response_metadata={'token_usage': {'completion_tokens': 53, 'prompt_tokens': 746, 'total_tokens': 799, 'completion_tokens_details': {'accepted_prediction_tokens': 0, 'audio_tokens': 0, 'reasoning_tokens': 0, 'rejected_prediction_tokens': 0}, 'prompt_tokens_details': {'audio_tokens': 0, 'cached_tokens': 0}}, 'model_name': 'gpt-3.5-turbo-0125', 'system_fingerprint': None, 'id': 'chatcmpl-BoWKMmGJzZfEEIp0IjGPAteIBxmjf', 'service_tier': 'default', 'finish_reason': 'tool_calls', 'logprobs': None}, id='run--62cdb0a1-b4e5-4db6-9f9d-1bbd871e61ad-0', tool_calls=[{'name': 'sql_db_query', 'args': {'query': 'SELECT c.Country, SUM(i.Total) AS Total_Spent FROM Customer c JOIN Invoice i ON c.CustomerId = i.CustomerId GROUP BY c.Country ORDER BY Total_Spent DESC LIMIT 1'}, 'id': 'call_KXfMuWLR6KqbZ7wX5aZzbRTY', 'type': 'tool_call'}], usage_metadata={'input_tokens': 746, 'output_tokens': 53, 'total_tokens': 799, 'input_token_details': {'audio': 0, 'cache_read': 0}, 'output_token_details': {'audio': 0, 'reasoning': 0}})]}}\n",
      "***********\n",
      "{'tools': {'messages': [ToolMessage(content=\"[('USA', 523.06)]\", name='sql_db_query', id='694e23d4-f3a0-41fd-ac7c-a4b41e912bd0', tool_call_id='call_KXfMuWLR6KqbZ7wX5aZzbRTY')]}}\n",
      "***********\n",
      "{'agent': {'messages': [AIMessage(content='Customers from the USA have spent the most, with a total amount spent of $523.06.', additional_kwargs={'refusal': None}, response_metadata={'token_usage': {'completion_tokens': 21, 'prompt_tokens': 817, 'total_tokens': 838, 'completion_tokens_details': {'accepted_prediction_tokens': 0, 'audio_tokens': 0, 'reasoning_tokens': 0, 'rejected_prediction_tokens': 0}, 'prompt_tokens_details': {'audio_tokens': 0, 'cached_tokens': 0}}, 'model_name': 'gpt-3.5-turbo-0125', 'system_fingerprint': None, 'id': 'chatcmpl-BoWKNjFE1lWjcHMBDYXpXnGcLTjyV', 'service_tier': 'default', 'finish_reason': 'stop', 'logprobs': None}, id='run--4c62f4bc-1068-4dd4-b946-c19a96cc0884-0', usage_metadata={'input_tokens': 817, 'output_tokens': 21, 'total_tokens': 838, 'input_token_details': {'audio': 0, 'cache_read': 0}, 'output_token_details': {'audio': 0, 'reasoning': 0}})]}}\n",
      "***********\n"
     ]
    }
   ],
   "source": [
    "for stream in agent_executor.stream({\n",
    "    \"messages\": [\n",
    "        HumanMessage(content=\"Which country's customers have spent the most?\")\n",
    "    ]\n",
    "}):\n",
    "    print(stream)\n",
    "    print(\"***********\")\n",
    "    "
   ]
  },
  {
   "cell_type": "code",
   "execution_count": 7,
   "id": "4d3a5f49",
   "metadata": {},
   "outputs": [
    {
     "data": {
      "text/plain": [
       "{'messages': [HumanMessage(content=\"Which country's customers have spent the most?\", additional_kwargs={}, response_metadata={}, id='c7967b6b-d036-4184-b0fd-6b2baa8cb5f0'),\n",
       "  AIMessage(content='', additional_kwargs={'tool_calls': [{'id': 'call_qHqHEoDq6w3ZcZS9YSGpQVIO', 'function': {'arguments': '{}', 'name': 'sql_db_list_tables'}, 'type': 'function'}], 'refusal': None}, response_metadata={'token_usage': {'completion_tokens': 12, 'prompt_tokens': 559, 'total_tokens': 571, 'completion_tokens_details': {'accepted_prediction_tokens': 0, 'audio_tokens': 0, 'reasoning_tokens': 0, 'rejected_prediction_tokens': 0}, 'prompt_tokens_details': {'audio_tokens': 0, 'cached_tokens': 0}}, 'model_name': 'gpt-3.5-turbo-0125', 'system_fingerprint': None, 'id': 'chatcmpl-BoWLBipVwkApl6fcIyz18W7syMTLv', 'service_tier': 'default', 'finish_reason': 'tool_calls', 'logprobs': None}, id='run--e3ea679c-4a2d-486c-8ee0-dd84a1aa3423-0', tool_calls=[{'name': 'sql_db_list_tables', 'args': {}, 'id': 'call_qHqHEoDq6w3ZcZS9YSGpQVIO', 'type': 'tool_call'}], usage_metadata={'input_tokens': 559, 'output_tokens': 12, 'total_tokens': 571, 'input_token_details': {'audio': 0, 'cache_read': 0}, 'output_token_details': {'audio': 0, 'reasoning': 0}}),\n",
       "  ToolMessage(content='Album, Artist, Customer, Employee, Genre, Invoice, InvoiceLine, MediaType, Playlist, PlaylistTrack, Track', name='sql_db_list_tables', id='37f984ca-8d28-40a8-b0af-01ad319e5819', tool_call_id='call_qHqHEoDq6w3ZcZS9YSGpQVIO'),\n",
       "  AIMessage(content='', additional_kwargs={'tool_calls': [{'id': 'call_e1zsEgULL8l8RpmDusl2ioEa', 'function': {'arguments': '{\"table_names\":\"Customer, Invoice, InvoiceLine\"}', 'name': 'sql_db_schema'}, 'type': 'function'}], 'refusal': None}, response_metadata={'token_usage': {'completion_tokens': 21, 'prompt_tokens': 604, 'total_tokens': 625, 'completion_tokens_details': {'accepted_prediction_tokens': 0, 'audio_tokens': 0, 'reasoning_tokens': 0, 'rejected_prediction_tokens': 0}, 'prompt_tokens_details': {'audio_tokens': 0, 'cached_tokens': 0}}, 'model_name': 'gpt-3.5-turbo-0125', 'system_fingerprint': None, 'id': 'chatcmpl-BoWLCQ9vEkR7RTCZ8Au2Nvb8WeXoX', 'service_tier': 'default', 'finish_reason': 'tool_calls', 'logprobs': None}, id='run--44e0cd6d-41d4-488d-938b-95514e63d3e2-0', tool_calls=[{'name': 'sql_db_schema', 'args': {'table_names': 'Customer, Invoice, InvoiceLine'}, 'id': 'call_e1zsEgULL8l8RpmDusl2ioEa', 'type': 'tool_call'}], usage_metadata={'input_tokens': 604, 'output_tokens': 21, 'total_tokens': 625, 'input_token_details': {'audio': 0, 'cache_read': 0}, 'output_token_details': {'audio': 0, 'reasoning': 0}}),\n",
       "  ToolMessage(content='\\nCREATE TABLE \"Customer\" (\\n\\t\"CustomerId\" INTEGER NOT NULL, \\n\\t\"FirstName\" NVARCHAR(40) NOT NULL, \\n\\t\"LastName\" NVARCHAR(20) NOT NULL, \\n\\t\"Company\" NVARCHAR(80), \\n\\t\"Address\" NVARCHAR(70), \\n\\t\"City\" NVARCHAR(40), \\n\\t\"State\" NVARCHAR(40), \\n\\t\"Country\" NVARCHAR(40), \\n\\t\"PostalCode\" NVARCHAR(10), \\n\\t\"Phone\" NVARCHAR(24), \\n\\t\"Fax\" NVARCHAR(24), \\n\\t\"Email\" NVARCHAR(60) NOT NULL, \\n\\t\"SupportRepId\" INTEGER, \\n\\tPRIMARY KEY (\"CustomerId\"), \\n\\tFOREIGN KEY(\"SupportRepId\") REFERENCES \"Employee\" (\"EmployeeId\")\\n)\\n\\n/*\\n3 rows from Customer table:\\nCustomerId\\tFirstName\\tLastName\\tCompany\\tAddress\\tCity\\tState\\tCountry\\tPostalCode\\tPhone\\tFax\\tEmail\\tSupportRepId\\n1\\tLuís\\tGonçalves\\tEmbraer - Empresa Brasileira de Aeronáutica S.A.\\tAv. Brigadeiro Faria Lima, 2170\\tSão José dos Campos\\tSP\\tBrazil\\t12227-000\\t+55 (12) 3923-5555\\t+55 (12) 3923-5566\\tluisg@embraer.com.br\\t3\\n2\\tLeonie\\tKöhler\\tNone\\tTheodor-Heuss-Straße 34\\tStuttgart\\tNone\\tGermany\\t70174\\t+49 0711 2842222\\tNone\\tleonekohler@surfeu.de\\t5\\n3\\tFrançois\\tTremblay\\tNone\\t1498 rue Bélanger\\tMontréal\\tQC\\tCanada\\tH2G 1A7\\t+1 (514) 721-4711\\tNone\\tftremblay@gmail.com\\t3\\n*/\\n\\n\\nCREATE TABLE \"Invoice\" (\\n\\t\"InvoiceId\" INTEGER NOT NULL, \\n\\t\"CustomerId\" INTEGER NOT NULL, \\n\\t\"InvoiceDate\" DATETIME NOT NULL, \\n\\t\"BillingAddress\" NVARCHAR(70), \\n\\t\"BillingCity\" NVARCHAR(40), \\n\\t\"BillingState\" NVARCHAR(40), \\n\\t\"BillingCountry\" NVARCHAR(40), \\n\\t\"BillingPostalCode\" NVARCHAR(10), \\n\\t\"Total\" NUMERIC(10, 2) NOT NULL, \\n\\tPRIMARY KEY (\"InvoiceId\"), \\n\\tFOREIGN KEY(\"CustomerId\") REFERENCES \"Customer\" (\"CustomerId\")\\n)\\n\\n/*\\n3 rows from Invoice table:\\nInvoiceId\\tCustomerId\\tInvoiceDate\\tBillingAddress\\tBillingCity\\tBillingState\\tBillingCountry\\tBillingPostalCode\\tTotal\\n1\\t2\\t2021-01-01 00:00:00\\tTheodor-Heuss-Straße 34\\tStuttgart\\tNone\\tGermany\\t70174\\t1.98\\n2\\t4\\t2021-01-02 00:00:00\\tUllevålsveien 14\\tOslo\\tNone\\tNorway\\t0171\\t3.96\\n3\\t8\\t2021-01-03 00:00:00\\tGrétrystraat 63\\tBrussels\\tNone\\tBelgium\\t1000\\t5.94\\n*/\\n\\n\\nCREATE TABLE \"InvoiceLine\" (\\n\\t\"InvoiceLineId\" INTEGER NOT NULL, \\n\\t\"InvoiceId\" INTEGER NOT NULL, \\n\\t\"TrackId\" INTEGER NOT NULL, \\n\\t\"UnitPrice\" NUMERIC(10, 2) NOT NULL, \\n\\t\"Quantity\" INTEGER NOT NULL, \\n\\tPRIMARY KEY (\"InvoiceLineId\"), \\n\\tFOREIGN KEY(\"TrackId\") REFERENCES \"Track\" (\"TrackId\"), \\n\\tFOREIGN KEY(\"InvoiceId\") REFERENCES \"Invoice\" (\"InvoiceId\")\\n)\\n\\n/*\\n3 rows from InvoiceLine table:\\nInvoiceLineId\\tInvoiceId\\tTrackId\\tUnitPrice\\tQuantity\\n1\\t1\\t2\\t0.99\\t1\\n2\\t1\\t4\\t0.99\\t1\\n3\\t2\\t6\\t0.99\\t1\\n*/', name='sql_db_schema', id='0718fe82-e24a-452d-b3a9-bd317e53fe92', tool_call_id='call_e1zsEgULL8l8RpmDusl2ioEa'),\n",
       "  AIMessage(content='', additional_kwargs={'tool_calls': [{'id': 'call_24IWAnfckGmKoPLdZlwbeUOc', 'function': {'arguments': '{\"query\":\"SELECT c.Country, SUM(i.Total) AS TotalSpent FROM Customer c JOIN Invoice i ON c.CustomerId = i.CustomerId GROUP BY c.Country ORDER BY TotalSpent DESC LIMIT 1\"}', 'name': 'sql_db_query'}, 'type': 'function'}], 'refusal': None}, response_metadata={'token_usage': {'completion_tokens': 53, 'prompt_tokens': 1485, 'total_tokens': 1538, 'completion_tokens_details': {'accepted_prediction_tokens': 0, 'audio_tokens': 0, 'reasoning_tokens': 0, 'rejected_prediction_tokens': 0}, 'prompt_tokens_details': {'audio_tokens': 0, 'cached_tokens': 0}}, 'model_name': 'gpt-3.5-turbo-0125', 'system_fingerprint': None, 'id': 'chatcmpl-BoWLE6fG7cv2e6X7BF2TtlZPhgNOz', 'service_tier': 'default', 'finish_reason': 'tool_calls', 'logprobs': None}, id='run--a2e5e31a-2e1d-4d88-9ccd-17b83f969534-0', tool_calls=[{'name': 'sql_db_query', 'args': {'query': 'SELECT c.Country, SUM(i.Total) AS TotalSpent FROM Customer c JOIN Invoice i ON c.CustomerId = i.CustomerId GROUP BY c.Country ORDER BY TotalSpent DESC LIMIT 1'}, 'id': 'call_24IWAnfckGmKoPLdZlwbeUOc', 'type': 'tool_call'}], usage_metadata={'input_tokens': 1485, 'output_tokens': 53, 'total_tokens': 1538, 'input_token_details': {'audio': 0, 'cache_read': 0}, 'output_token_details': {'audio': 0, 'reasoning': 0}}),\n",
       "  ToolMessage(content=\"[('USA', 523.06)]\", name='sql_db_query', id='d9d9fd2b-fff8-4db8-b397-94ffef1133fd', tool_call_id='call_24IWAnfckGmKoPLdZlwbeUOc'),\n",
       "  AIMessage(content='Customers from the USA have spent the most, with a total amount spent of $523.06.', additional_kwargs={'refusal': None}, response_metadata={'token_usage': {'completion_tokens': 21, 'prompt_tokens': 1556, 'total_tokens': 1577, 'completion_tokens_details': {'accepted_prediction_tokens': 0, 'audio_tokens': 0, 'reasoning_tokens': 0, 'rejected_prediction_tokens': 0}, 'prompt_tokens_details': {'audio_tokens': 0, 'cached_tokens': 0}}, 'model_name': 'gpt-3.5-turbo-0125', 'system_fingerprint': None, 'id': 'chatcmpl-BoWLFczHvoUR132Zbh0QC9vqvsA1k', 'service_tier': 'default', 'finish_reason': 'stop', 'logprobs': None}, id='run--0b725302-342b-4c38-97b4-3068b8ed57fa-0', usage_metadata={'input_tokens': 1556, 'output_tokens': 21, 'total_tokens': 1577, 'input_token_details': {'audio': 0, 'cache_read': 0}, 'output_token_details': {'audio': 0, 'reasoning': 0}})]}"
      ]
     },
     "execution_count": 7,
     "metadata": {},
     "output_type": "execute_result"
    }
   ],
   "source": [
    "agent_executor.invoke({\n",
    "    \"messages\": [\n",
    "        HumanMessage(content=\"Which country's customers have spent the most?\")\n",
    "    ]\n",
    "})"
   ]
  }
 ],
 "metadata": {
  "kernelspec": {
   "display_name": ".venv",
   "language": "python",
   "name": "python3"
  },
  "language_info": {
   "codemirror_mode": {
    "name": "ipython",
    "version": 3
   },
   "file_extension": ".py",
   "mimetype": "text/x-python",
   "name": "python",
   "nbconvert_exporter": "python",
   "pygments_lexer": "ipython3",
   "version": "3.11.11"
  }
 },
 "nbformat": 4,
 "nbformat_minor": 5
}
