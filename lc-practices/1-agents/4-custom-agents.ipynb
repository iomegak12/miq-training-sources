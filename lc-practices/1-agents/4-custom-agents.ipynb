{
 "cells": [
  {
   "cell_type": "markdown",
   "id": "e6d80c8f",
   "metadata": {},
   "source": [
    "### LangChain - Custom Agents (Custom Tools, Built-in Tools, Custom Agents and Out-of-the-Box Agents from LangGraph)"
   ]
  },
  {
   "cell_type": "code",
   "execution_count": 1,
   "id": "ccadd050",
   "metadata": {},
   "outputs": [],
   "source": [
    "import os\n",
    "\n",
    "from dotenv import load_dotenv\n",
    "from langchain_openai import ChatOpenAI\n",
    "from langchain import hub\n",
    "from langchain_core.tools import tool\n",
    "from langchain.agents import AgentExecutor, create_tool_calling_agent\n",
    "from langchain_community.utilities import GoogleSerperAPIWrapper"
   ]
  },
  {
   "cell_type": "code",
   "execution_count": 2,
   "id": "db2e912f",
   "metadata": {},
   "outputs": [],
   "source": [
    "load_dotenv()\n",
    "\n",
    "openai_api_key = os.environ[\"OPENAI_API_KEY\"]\n",
    "model_name = \"gpt-4o\"\n",
    "temperature = 0.1\n",
    "max_tokens = 1000\n",
    "\n",
    "llm = ChatOpenAI(\n",
    "    model = model_name,\n",
    "    temperature=temperature,\n",
    "    max_tokens=max_tokens,\n",
    "    openai_api_key = openai_api_key\n",
    ")"
   ]
  },
  {
   "cell_type": "code",
   "execution_count": 3,
   "id": "4ec1fcaa",
   "metadata": {},
   "outputs": [],
   "source": [
    "@tool\n",
    "def multiply(first_int: int, second_int: int) -> int:\n",
    "    \"\"\"Multiplies two integers together\"\"\"\n",
    "    \n",
    "    return first_int * second_int\n",
    "\n",
    "@tool\n",
    "def add(first_int: int, second_int: int) -> int:\n",
    "    \"\"\"Sums two integers together\"\"\"\n",
    "    \n",
    "    return first_int + second_int\n",
    "\n",
    "@tool\n",
    "def exponentize(first_int: int, second_int: int) -> int:\n",
    "    \"\"\"Exponentize the base to the exponent value\"\"\"\n",
    "    \n",
    "    return first_int ** second_int"
   ]
  },
  {
   "cell_type": "code",
   "execution_count": 4,
   "id": "9c3509b9",
   "metadata": {},
   "outputs": [],
   "source": [
    "@tool(\"GoogleSearch\")\n",
    "def search(query_string: str):\n",
    "    \"\"\"\n",
    "    Useful to search for any kinds of information and\n",
    "    when you need to search the internet for any kinds of information, use this tool.\n",
    "    \"\"\"\n",
    "    \n",
    "    search = GoogleSerperAPIWrapper()\n",
    "    \n",
    "    return search.run(query_string)"
   ]
  },
  {
   "cell_type": "code",
   "execution_count": 5,
   "id": "8a98b045",
   "metadata": {},
   "outputs": [],
   "source": [
    "tools = [add, multiply, exponentize, search]"
   ]
  },
  {
   "cell_type": "code",
   "execution_count": 6,
   "id": "90e5979d",
   "metadata": {},
   "outputs": [],
   "source": [
    "from langchain_community.utilities import SQLDatabase\n",
    "\n",
    "db_file_path = \"./chinook.db\"\n",
    "db = SQLDatabase.from_uri(f\"sqlite:///{db_file_path}\")"
   ]
  },
  {
   "cell_type": "code",
   "execution_count": 7,
   "id": "ca4bc2e4",
   "metadata": {},
   "outputs": [
    {
     "data": {
      "text/plain": [
       "[QuerySQLDatabaseTool(description=\"Input to this tool is a detailed and correct SQL query, output is a result from the database. If the query is not correct, an error message will be returned. If an error is returned, rewrite the query, check the query, and try again. If you encounter an issue with Unknown column 'xxxx' in 'field list', use sql_db_schema to query the correct table fields.\", db=<langchain_community.utilities.sql_database.SQLDatabase object at 0x000001E33906F690>),\n",
       " InfoSQLDatabaseTool(description='Input to this tool is a comma-separated list of tables, output is the schema and sample rows for those tables. Be sure that the tables actually exist by calling sql_db_list_tables first! Example Input: table1, table2, table3', db=<langchain_community.utilities.sql_database.SQLDatabase object at 0x000001E33906F690>),\n",
       " ListSQLDatabaseTool(db=<langchain_community.utilities.sql_database.SQLDatabase object at 0x000001E33906F690>),\n",
       " QuerySQLCheckerTool(description='Use this tool to double check if your query is correct before executing it. Always use this tool before executing a query with sql_db_query!', db=<langchain_community.utilities.sql_database.SQLDatabase object at 0x000001E33906F690>, llm=ChatOpenAI(client=<openai.resources.chat.completions.completions.Completions object at 0x000001E3373A32D0>, async_client=<openai.resources.chat.completions.completions.AsyncCompletions object at 0x000001E3379BD190>, root_client=<openai.OpenAI object at 0x000001E3374C0090>, root_async_client=<openai.AsyncOpenAI object at 0x000001E3379BCED0>, model_name='gpt-4o', temperature=0.1, model_kwargs={}, openai_api_key=SecretStr('**********'), max_tokens=1000), llm_chain=LLMChain(verbose=False, prompt=PromptTemplate(input_variables=['dialect', 'query'], input_types={}, partial_variables={}, template='\\n{query}\\nDouble check the {dialect} query above for common mistakes, including:\\n- Using NOT IN with NULL values\\n- Using UNION when UNION ALL should have been used\\n- Using BETWEEN for exclusive ranges\\n- Data type mismatch in predicates\\n- Properly quoting identifiers\\n- Using the correct number of arguments for functions\\n- Casting to the correct data type\\n- Using the proper columns for joins\\n\\nIf there are any of the above mistakes, rewrite the query. If there are no mistakes, just reproduce the original query.\\n\\nOutput the final SQL query only.\\n\\nSQL Query: '), llm=ChatOpenAI(client=<openai.resources.chat.completions.completions.Completions object at 0x000001E3373A32D0>, async_client=<openai.resources.chat.completions.completions.AsyncCompletions object at 0x000001E3379BD190>, root_client=<openai.OpenAI object at 0x000001E3374C0090>, root_async_client=<openai.AsyncOpenAI object at 0x000001E3379BCED0>, model_name='gpt-4o', temperature=0.1, model_kwargs={}, openai_api_key=SecretStr('**********'), max_tokens=1000), output_parser=StrOutputParser(), llm_kwargs={}))]"
      ]
     },
     "execution_count": 7,
     "metadata": {},
     "output_type": "execute_result"
    }
   ],
   "source": [
    "from langchain_community.agent_toolkits import SQLDatabaseToolkit\n",
    "\n",
    "toolkit = SQLDatabaseToolkit(db = db, llm = llm)\n",
    "\n",
    "db_tools = toolkit.get_tools()\n",
    "\n",
    "db_tools"
   ]
  },
  {
   "cell_type": "code",
   "execution_count": 8,
   "id": "6872a9d3",
   "metadata": {},
   "outputs": [],
   "source": [
    "from langgraph.prebuilt import create_react_agent\n",
    "from langchain_core.messages import HumanMessage, SystemMessage\n",
    "\n",
    "SQL_PREFIX=\"\"\"\n",
    "You are an agent designed to interact with a SQL database.\n",
    "Given an input question, create a syntactically correct SQLite query to run, then look at the results of the query and return the answer.\n",
    "Unless the user specifies a specific number of examples they wish to obtain, always limit your query to at most 5 results.\n",
    "You can order the results by a relevant column to return the most interesting examples in the database.\n",
    "Never query for all the columns from a specific table, only ask for the relevant columns given the question.\n",
    "You have access to tools for interacting with the database.\n",
    "Only use the below tools. Only use the information returned by the below tools to construct your final answer.\n",
    "You MUST double check your query before executing it. If you get an error while executing a query, rewrite the query and try again.\n",
    "\n",
    "DO NOT make any DML statements (INSERT, UPDATE, DELETE, DROP etc.) to the database.\n",
    "\n",
    "To start you should ALWAYS look at the tables in the database to see what you can query.\n",
    "Do NOT skip this step.\n",
    "Then you should query the schema of the most relevant tables.\n",
    "\"\"\""
   ]
  },
  {
   "cell_type": "code",
   "execution_count": 9,
   "id": "c549e6d5",
   "metadata": {},
   "outputs": [],
   "source": [
    "final_tools = tools + db_tools"
   ]
  },
  {
   "cell_type": "code",
   "execution_count": 10,
   "id": "da102d83",
   "metadata": {},
   "outputs": [
    {
     "data": {
      "text/plain": [
       "[StructuredTool(name='add', description='Sums two integers together', args_schema=<class 'langchain_core.utils.pydantic.add'>, func=<function add at 0x000001E33451CFE0>),\n",
       " StructuredTool(name='multiply', description='Multiplies two integers together', args_schema=<class 'langchain_core.utils.pydantic.multiply'>, func=<function multiply at 0x000001E331283740>),\n",
       " StructuredTool(name='exponentize', description='Exponentize the base to the exponent value', args_schema=<class 'langchain_core.utils.pydantic.exponentize'>, func=<function exponentize at 0x000001E3379660C0>),\n",
       " StructuredTool(name='GoogleSearch', description='Useful to search for any kinds of information and\\nwhen you need to search the internet for any kinds of information, use this tool.', args_schema=<class 'langchain_core.utils.pydantic.GoogleSearch'>, func=<function search at 0x000001E336C6DF80>),\n",
       " QuerySQLDatabaseTool(description=\"Input to this tool is a detailed and correct SQL query, output is a result from the database. If the query is not correct, an error message will be returned. If an error is returned, rewrite the query, check the query, and try again. If you encounter an issue with Unknown column 'xxxx' in 'field list', use sql_db_schema to query the correct table fields.\", db=<langchain_community.utilities.sql_database.SQLDatabase object at 0x000001E33906F690>),\n",
       " InfoSQLDatabaseTool(description='Input to this tool is a comma-separated list of tables, output is the schema and sample rows for those tables. Be sure that the tables actually exist by calling sql_db_list_tables first! Example Input: table1, table2, table3', db=<langchain_community.utilities.sql_database.SQLDatabase object at 0x000001E33906F690>),\n",
       " ListSQLDatabaseTool(db=<langchain_community.utilities.sql_database.SQLDatabase object at 0x000001E33906F690>),\n",
       " QuerySQLCheckerTool(description='Use this tool to double check if your query is correct before executing it. Always use this tool before executing a query with sql_db_query!', db=<langchain_community.utilities.sql_database.SQLDatabase object at 0x000001E33906F690>, llm=ChatOpenAI(client=<openai.resources.chat.completions.completions.Completions object at 0x000001E3373A32D0>, async_client=<openai.resources.chat.completions.completions.AsyncCompletions object at 0x000001E3379BD190>, root_client=<openai.OpenAI object at 0x000001E3374C0090>, root_async_client=<openai.AsyncOpenAI object at 0x000001E3379BCED0>, model_name='gpt-4o', temperature=0.1, model_kwargs={}, openai_api_key=SecretStr('**********'), max_tokens=1000), llm_chain=LLMChain(verbose=False, prompt=PromptTemplate(input_variables=['dialect', 'query'], input_types={}, partial_variables={}, template='\\n{query}\\nDouble check the {dialect} query above for common mistakes, including:\\n- Using NOT IN with NULL values\\n- Using UNION when UNION ALL should have been used\\n- Using BETWEEN for exclusive ranges\\n- Data type mismatch in predicates\\n- Properly quoting identifiers\\n- Using the correct number of arguments for functions\\n- Casting to the correct data type\\n- Using the proper columns for joins\\n\\nIf there are any of the above mistakes, rewrite the query. If there are no mistakes, just reproduce the original query.\\n\\nOutput the final SQL query only.\\n\\nSQL Query: '), llm=ChatOpenAI(client=<openai.resources.chat.completions.completions.Completions object at 0x000001E3373A32D0>, async_client=<openai.resources.chat.completions.completions.AsyncCompletions object at 0x000001E3379BD190>, root_client=<openai.OpenAI object at 0x000001E3374C0090>, root_async_client=<openai.AsyncOpenAI object at 0x000001E3379BCED0>, model_name='gpt-4o', temperature=0.1, model_kwargs={}, openai_api_key=SecretStr('**********'), max_tokens=1000), output_parser=StrOutputParser(), llm_kwargs={}))]"
      ]
     },
     "execution_count": 10,
     "metadata": {},
     "output_type": "execute_result"
    }
   ],
   "source": [
    "final_tools"
   ]
  },
  {
   "cell_type": "code",
   "execution_count": 11,
   "id": "3bc31c52",
   "metadata": {},
   "outputs": [],
   "source": [
    "system_message = SystemMessage(content=SQL_PREFIX)\n",
    "\n",
    "agent_executor = create_react_agent(\n",
    "    llm,\n",
    "    tools = final_tools,\n",
    "    state_modifier = system_message\n",
    ")"
   ]
  },
  {
   "cell_type": "code",
   "execution_count": 12,
   "id": "66d29635",
   "metadata": {},
   "outputs": [],
   "source": [
    "question = \"\"\"\n",
    "take 3 to the fifth power and multiply that result by the sum of twelve and three, then square the whole result, \n",
    "and also let me know the capital of Malaysia and best places to visit at the capital ...\n",
    "and also need 5 bulleted points about Mahatma Gandhi Achievements\n",
    "and Which country's customers have spent the most in the sales?\n",
    "\"\"\""
   ]
  },
  {
   "cell_type": "code",
   "execution_count": 13,
   "id": "db128560",
   "metadata": {},
   "outputs": [
    {
     "name": "stdout",
     "output_type": "stream",
     "text": [
      "{'agent': {'messages': [AIMessage(content='', additional_kwargs={'tool_calls': [{'id': 'call_MV2hgrL9bfabxdUfibtMXWP9', 'function': {'arguments': '{\"first_int\": 3, \"second_int\": 5}', 'name': 'exponentize'}, 'type': 'function'}, {'id': 'call_guiT3D450fYGgm4Jlf5ch4F0', 'function': {'arguments': '{\"first_int\": 12, \"second_int\": 3}', 'name': 'add'}, 'type': 'function'}, {'id': 'call_TJ1L1R6DBZ3fHXE7aTqw7MaU', 'function': {'arguments': '{\"query_string\": \"capital of Malaysia and best places to visit\"}', 'name': 'GoogleSearch'}, 'type': 'function'}, {'id': 'call_TVj57JbhhVng67AWZFrc3E2U', 'function': {'arguments': '{\"query_string\": \"Mahatma Gandhi Achievements\"}', 'name': 'GoogleSearch'}, 'type': 'function'}], 'refusal': None}, response_metadata={'token_usage': {'completion_tokens': 98, 'prompt_tokens': 738, 'total_tokens': 836, 'completion_tokens_details': {'accepted_prediction_tokens': 0, 'audio_tokens': 0, 'reasoning_tokens': 0, 'rejected_prediction_tokens': 0}, 'prompt_tokens_details': {'audio_tokens': 0, 'cached_tokens': 0}}, 'model_name': 'gpt-4o-2024-08-06', 'system_fingerprint': 'fp_a288987b44', 'id': 'chatcmpl-BoWk989BFf510u4urMU6T4UDs1C3D', 'service_tier': 'default', 'finish_reason': 'tool_calls', 'logprobs': None}, id='run--6e32a71f-ae2a-4f4e-be01-794cf3503eef-0', tool_calls=[{'name': 'exponentize', 'args': {'first_int': 3, 'second_int': 5}, 'id': 'call_MV2hgrL9bfabxdUfibtMXWP9', 'type': 'tool_call'}, {'name': 'add', 'args': {'first_int': 12, 'second_int': 3}, 'id': 'call_guiT3D450fYGgm4Jlf5ch4F0', 'type': 'tool_call'}, {'name': 'GoogleSearch', 'args': {'query_string': 'capital of Malaysia and best places to visit'}, 'id': 'call_TJ1L1R6DBZ3fHXE7aTqw7MaU', 'type': 'tool_call'}, {'name': 'GoogleSearch', 'args': {'query_string': 'Mahatma Gandhi Achievements'}, 'id': 'call_TVj57JbhhVng67AWZFrc3E2U', 'type': 'tool_call'}], usage_metadata={'input_tokens': 738, 'output_tokens': 98, 'total_tokens': 836, 'input_token_details': {'audio': 0, 'cache_read': 0}, 'output_token_details': {'audio': 0, 'reasoning': 0}})]}}\n",
      "***********\n",
      "{'tools': {'messages': [ToolMessage(content='243', name='exponentize', id='76a06b57-1e9a-4c37-aa43-085da1c14d57', tool_call_id='call_MV2hgrL9bfabxdUfibtMXWP9'), ToolMessage(content='15', name='add', id='af006fe5-a9ee-4ace-bdc9-d5e911a77b2b', tool_call_id='call_guiT3D450fYGgm4Jlf5ch4F0'), ToolMessage(content=\"Top Tourist Places in Malaysia Check out must-see sights and activities: Petronas Twin Towers, Royal Selangor Visitor Centre, Nature and Wildlife Tours, Flea & Street Markets. If you are looking for the best places to visit in Malaysia, you won't want to miss out on the vibrant town of Melaka (also spelt Malacca). Kuala Lumpur, the capital and largest city of Malaysia, covers approximately 243 square kilometers in the central part of the Malay Peninsula. The Most Beautiful Places to Visit in Malaysia · Malacca · Penang · The Perhentian Islands · Cameron Highlands · Pangkor Island · Tioman · Taman Negara · Langkawi. The popular capital of Penang, George Town is a colourful Malaysian city that has also been listed as a UNESCO World Heritage Site. George Town is the second ... Penang. Pulau Pinang Malaysia. Penang - best places to visit in Malaysia ... Located in northwest Peninsular Malaysia, it serves as the capital of ... Main Highlights of Malaysia include gorgeous beaches of Langkawi, Kuala Lumpur's Petronas Twin Towers, Penang's historic capital of George Town and Borneo's ... Kuala Lumpur is an excellent place to go, offering myriad options where skilled chefs will guide you through recipes like prawn fritters, nasi lemak (coconut ... Top Cities to Visit on Your 5-Day Trip to Malaysia · KUALA LUMPUR · MALACCA · GENTING HIGHLANDS · IPOH · CAMERON HIGHLANDS · PENANG · RESERVE YOUR TICKETS TO TRAVEL TO ...\", name='GoogleSearch', id='adda0e0f-5acd-4d97-a267-9de316aed64f', tool_call_id='call_TJ1L1R6DBZ3fHXE7aTqw7MaU'), ToolMessage(content=\"Gandhi effectively used the ideas of peaceful, passive resistance while spearheading statewide campaigns to eradicate poverty, promote women's rights, establish religious and ethnic unity, and abolish the evils of the caste system, contributing a significant part in liberating India from foreign dominance. Mahatma Gandhi was one of the greatest national and civil rights leaders of the 20th century. He served as a lawyer, politician, and activist in the struggle ... Assuming leadership of the Indian National Congress in 1921, Gandhi led nationwide campaigns for easing poverty, expanding women's rights, building religious ... Indian lawyer, politician, social activist, and writer who became the leader of the Indian Independence Movement against British rule. Mohandas Gandhi was a lawyer, political activist, and a writer. Gandhi advocated for the fair treatment of Indian immigrants and self-rule for India. *The greatest accomplishment of Gandhi was his life-long fight for the independence of India. His dream for his country's independence finally became reality ... Gandhi's first major achievement was in 1918 when he led the Champaran and Kheda agitations of Bihar and Gujarat. He also led Non-Cooperation ... Gandhi's civil disobedience and nonviolent demonstrations in South Africa and India won greater freedom and ultimately, independence for 400 million Indians ... He dedicated himself to various social causes, including the eradication of untouchability and the empowerment of the marginalized communities. He mobilized millions of Indians in peaceful resistance against British colonial rule, enduring imprisonment and suffering for the cause. His ...\", name='GoogleSearch', id='7bc0dd0b-cf9e-4df7-8e68-d0ae12b2c87f', tool_call_id='call_TVj57JbhhVng67AWZFrc3E2U')]}}\n",
      "***********\n",
      "{'agent': {'messages': [AIMessage(content='', additional_kwargs={'tool_calls': [{'id': 'call_7aRIOC7qeVm6UZ09VvgFhkEU', 'function': {'arguments': '{\"first_int\":243,\"second_int\":15}', 'name': 'multiply'}, 'type': 'function'}], 'refusal': None}, response_metadata={'token_usage': {'completion_tokens': 19, 'prompt_tokens': 1545, 'total_tokens': 1564, 'completion_tokens_details': {'accepted_prediction_tokens': 0, 'audio_tokens': 0, 'reasoning_tokens': 0, 'rejected_prediction_tokens': 0}, 'prompt_tokens_details': {'audio_tokens': 0, 'cached_tokens': 0}}, 'model_name': 'gpt-4o-2024-08-06', 'system_fingerprint': 'fp_a288987b44', 'id': 'chatcmpl-BoWkCak9wHTsN2aIKplhMc9nU4onT', 'service_tier': 'default', 'finish_reason': 'tool_calls', 'logprobs': None}, id='run--b78b8eed-1b03-4b30-b9cf-a1899a1098d0-0', tool_calls=[{'name': 'multiply', 'args': {'first_int': 243, 'second_int': 15}, 'id': 'call_7aRIOC7qeVm6UZ09VvgFhkEU', 'type': 'tool_call'}], usage_metadata={'input_tokens': 1545, 'output_tokens': 19, 'total_tokens': 1564, 'input_token_details': {'audio': 0, 'cache_read': 0}, 'output_token_details': {'audio': 0, 'reasoning': 0}})]}}\n",
      "***********\n",
      "{'tools': {'messages': [ToolMessage(content='3645', name='multiply', id='fb63773d-078d-432e-a780-825359ad4c4d', tool_call_id='call_7aRIOC7qeVm6UZ09VvgFhkEU')]}}\n",
      "***********\n",
      "{'agent': {'messages': [AIMessage(content='', additional_kwargs={'tool_calls': [{'id': 'call_aOVQiz9ebGPgbPebz4N3tzFt', 'function': {'arguments': '{\"first_int\":3645,\"second_int\":2}', 'name': 'exponentize'}, 'type': 'function'}], 'refusal': None}, response_metadata={'token_usage': {'completion_tokens': 22, 'prompt_tokens': 1573, 'total_tokens': 1595, 'completion_tokens_details': {'accepted_prediction_tokens': 0, 'audio_tokens': 0, 'reasoning_tokens': 0, 'rejected_prediction_tokens': 0}, 'prompt_tokens_details': {'audio_tokens': 0, 'cached_tokens': 1536}}, 'model_name': 'gpt-4o-2024-08-06', 'system_fingerprint': 'fp_a288987b44', 'id': 'chatcmpl-BoWkD8c7CwFZz0yc1AWopEmDAGgA6', 'service_tier': 'default', 'finish_reason': 'tool_calls', 'logprobs': None}, id='run--2c922feb-a39a-458d-9e68-594af2fa866d-0', tool_calls=[{'name': 'exponentize', 'args': {'first_int': 3645, 'second_int': 2}, 'id': 'call_aOVQiz9ebGPgbPebz4N3tzFt', 'type': 'tool_call'}], usage_metadata={'input_tokens': 1573, 'output_tokens': 22, 'total_tokens': 1595, 'input_token_details': {'audio': 0, 'cache_read': 1536}, 'output_token_details': {'audio': 0, 'reasoning': 0}})]}}\n",
      "***********\n",
      "{'tools': {'messages': [ToolMessage(content='13286025', name='exponentize', id='aeab71ac-532b-443a-8fd5-8750168fb56c', tool_call_id='call_aOVQiz9ebGPgbPebz4N3tzFt')]}}\n",
      "***********\n",
      "{'agent': {'messages': [AIMessage(content='', additional_kwargs={'tool_calls': [{'id': 'call_SZtDHbE8vd9NAO19fhQiR0UG', 'function': {'arguments': '{}', 'name': 'sql_db_list_tables'}, 'type': 'function'}], 'refusal': None}, response_metadata={'token_usage': {'completion_tokens': 12, 'prompt_tokens': 1607, 'total_tokens': 1619, 'completion_tokens_details': {'accepted_prediction_tokens': 0, 'audio_tokens': 0, 'reasoning_tokens': 0, 'rejected_prediction_tokens': 0}, 'prompt_tokens_details': {'audio_tokens': 0, 'cached_tokens': 1536}}, 'model_name': 'gpt-4o-2024-08-06', 'system_fingerprint': 'fp_a288987b44', 'id': 'chatcmpl-BoWkE5WcmFnb9sSbdHoktlzMTtlX4', 'service_tier': 'default', 'finish_reason': 'tool_calls', 'logprobs': None}, id='run--4f55fe17-2a5f-4044-af33-fbc30d385c27-0', tool_calls=[{'name': 'sql_db_list_tables', 'args': {}, 'id': 'call_SZtDHbE8vd9NAO19fhQiR0UG', 'type': 'tool_call'}], usage_metadata={'input_tokens': 1607, 'output_tokens': 12, 'total_tokens': 1619, 'input_token_details': {'audio': 0, 'cache_read': 1536}, 'output_token_details': {'audio': 0, 'reasoning': 0}})]}}\n",
      "***********\n",
      "{'tools': {'messages': [ToolMessage(content='Album, Artist, Customer, Employee, Genre, Invoice, InvoiceLine, MediaType, Playlist, PlaylistTrack, Track', name='sql_db_list_tables', id='a156137d-4309-479b-9121-db5a26e9521a', tool_call_id='call_SZtDHbE8vd9NAO19fhQiR0UG')]}}\n",
      "***********\n",
      "{'agent': {'messages': [AIMessage(content='', additional_kwargs={'tool_calls': [{'id': 'call_9Kjqbc9k6j4XOYeCVeqHOFSy', 'function': {'arguments': '{\"table_names\":\"Customer, Invoice\"}', 'name': 'sql_db_schema'}, 'type': 'function'}], 'refusal': None}, response_metadata={'token_usage': {'completion_tokens': 18, 'prompt_tokens': 1653, 'total_tokens': 1671, 'completion_tokens_details': {'accepted_prediction_tokens': 0, 'audio_tokens': 0, 'reasoning_tokens': 0, 'rejected_prediction_tokens': 0}, 'prompt_tokens_details': {'audio_tokens': 0, 'cached_tokens': 1536}}, 'model_name': 'gpt-4o-2024-08-06', 'system_fingerprint': 'fp_a288987b44', 'id': 'chatcmpl-BoWkF6ilSs9HJ1RRsbu5veKEMzqTW', 'service_tier': 'default', 'finish_reason': 'tool_calls', 'logprobs': None}, id='run--877ec24a-4b6c-48b4-9a3a-699480a7fe05-0', tool_calls=[{'name': 'sql_db_schema', 'args': {'table_names': 'Customer, Invoice'}, 'id': 'call_9Kjqbc9k6j4XOYeCVeqHOFSy', 'type': 'tool_call'}], usage_metadata={'input_tokens': 1653, 'output_tokens': 18, 'total_tokens': 1671, 'input_token_details': {'audio': 0, 'cache_read': 1536}, 'output_token_details': {'audio': 0, 'reasoning': 0}})]}}\n",
      "***********\n",
      "{'tools': {'messages': [ToolMessage(content='\\nCREATE TABLE \"Customer\" (\\n\\t\"CustomerId\" INTEGER NOT NULL, \\n\\t\"FirstName\" NVARCHAR(40) NOT NULL, \\n\\t\"LastName\" NVARCHAR(20) NOT NULL, \\n\\t\"Company\" NVARCHAR(80), \\n\\t\"Address\" NVARCHAR(70), \\n\\t\"City\" NVARCHAR(40), \\n\\t\"State\" NVARCHAR(40), \\n\\t\"Country\" NVARCHAR(40), \\n\\t\"PostalCode\" NVARCHAR(10), \\n\\t\"Phone\" NVARCHAR(24), \\n\\t\"Fax\" NVARCHAR(24), \\n\\t\"Email\" NVARCHAR(60) NOT NULL, \\n\\t\"SupportRepId\" INTEGER, \\n\\tPRIMARY KEY (\"CustomerId\"), \\n\\tFOREIGN KEY(\"SupportRepId\") REFERENCES \"Employee\" (\"EmployeeId\")\\n)\\n\\n/*\\n3 rows from Customer table:\\nCustomerId\\tFirstName\\tLastName\\tCompany\\tAddress\\tCity\\tState\\tCountry\\tPostalCode\\tPhone\\tFax\\tEmail\\tSupportRepId\\n1\\tLuís\\tGonçalves\\tEmbraer - Empresa Brasileira de Aeronáutica S.A.\\tAv. Brigadeiro Faria Lima, 2170\\tSão José dos Campos\\tSP\\tBrazil\\t12227-000\\t+55 (12) 3923-5555\\t+55 (12) 3923-5566\\tluisg@embraer.com.br\\t3\\n2\\tLeonie\\tKöhler\\tNone\\tTheodor-Heuss-Straße 34\\tStuttgart\\tNone\\tGermany\\t70174\\t+49 0711 2842222\\tNone\\tleonekohler@surfeu.de\\t5\\n3\\tFrançois\\tTremblay\\tNone\\t1498 rue Bélanger\\tMontréal\\tQC\\tCanada\\tH2G 1A7\\t+1 (514) 721-4711\\tNone\\tftremblay@gmail.com\\t3\\n*/\\n\\n\\nCREATE TABLE \"Invoice\" (\\n\\t\"InvoiceId\" INTEGER NOT NULL, \\n\\t\"CustomerId\" INTEGER NOT NULL, \\n\\t\"InvoiceDate\" DATETIME NOT NULL, \\n\\t\"BillingAddress\" NVARCHAR(70), \\n\\t\"BillingCity\" NVARCHAR(40), \\n\\t\"BillingState\" NVARCHAR(40), \\n\\t\"BillingCountry\" NVARCHAR(40), \\n\\t\"BillingPostalCode\" NVARCHAR(10), \\n\\t\"Total\" NUMERIC(10, 2) NOT NULL, \\n\\tPRIMARY KEY (\"InvoiceId\"), \\n\\tFOREIGN KEY(\"CustomerId\") REFERENCES \"Customer\" (\"CustomerId\")\\n)\\n\\n/*\\n3 rows from Invoice table:\\nInvoiceId\\tCustomerId\\tInvoiceDate\\tBillingAddress\\tBillingCity\\tBillingState\\tBillingCountry\\tBillingPostalCode\\tTotal\\n1\\t2\\t2021-01-01 00:00:00\\tTheodor-Heuss-Straße 34\\tStuttgart\\tNone\\tGermany\\t70174\\t1.98\\n2\\t4\\t2021-01-02 00:00:00\\tUllevålsveien 14\\tOslo\\tNone\\tNorway\\t0171\\t3.96\\n3\\t8\\t2021-01-03 00:00:00\\tGrétrystraat 63\\tBrussels\\tNone\\tBelgium\\t1000\\t5.94\\n*/', name='sql_db_schema', id='bb5250f0-ac07-4ef8-82b6-0b16ee6202fb', tool_call_id='call_9Kjqbc9k6j4XOYeCVeqHOFSy')]}}\n",
      "***********\n",
      "{'agent': {'messages': [AIMessage(content='', additional_kwargs={'tool_calls': [{'id': 'call_jGX69MgH5kvCMLGXGqG2u4vw', 'function': {'arguments': '{\"query\":\"SELECT BillingCountry, SUM(Total) as TotalSpent FROM Invoice GROUP BY BillingCountry ORDER BY TotalSpent DESC LIMIT 1;\"}', 'name': 'sql_db_query_checker'}, 'type': 'function'}], 'refusal': None}, response_metadata={'token_usage': {'completion_tokens': 41, 'prompt_tokens': 2371, 'total_tokens': 2412, 'completion_tokens_details': {'accepted_prediction_tokens': 0, 'audio_tokens': 0, 'reasoning_tokens': 0, 'rejected_prediction_tokens': 0}, 'prompt_tokens_details': {'audio_tokens': 0, 'cached_tokens': 1664}}, 'model_name': 'gpt-4o-2024-08-06', 'system_fingerprint': 'fp_a288987b44', 'id': 'chatcmpl-BoWkGj1ZoN3M8sGOkvd6vOo7kD6bQ', 'service_tier': 'default', 'finish_reason': 'tool_calls', 'logprobs': None}, id='run--56294cb5-be62-4da9-b11f-d235bbe9c76f-0', tool_calls=[{'name': 'sql_db_query_checker', 'args': {'query': 'SELECT BillingCountry, SUM(Total) as TotalSpent FROM Invoice GROUP BY BillingCountry ORDER BY TotalSpent DESC LIMIT 1;'}, 'id': 'call_jGX69MgH5kvCMLGXGqG2u4vw', 'type': 'tool_call'}], usage_metadata={'input_tokens': 2371, 'output_tokens': 41, 'total_tokens': 2412, 'input_token_details': {'audio': 0, 'cache_read': 1664}, 'output_token_details': {'audio': 0, 'reasoning': 0}})]}}\n",
      "***********\n",
      "{'tools': {'messages': [ToolMessage(content='```sql\\nSELECT BillingCountry, SUM(Total) as TotalSpent FROM Invoice GROUP BY BillingCountry ORDER BY TotalSpent DESC LIMIT 1;\\n```', name='sql_db_query_checker', id='17940463-0f02-4484-a6dc-7a1904537cf2', tool_call_id='call_jGX69MgH5kvCMLGXGqG2u4vw')]}}\n",
      "***********\n",
      "{'agent': {'messages': [AIMessage(content='', additional_kwargs={'tool_calls': [{'id': 'call_3VYGK4ozIUdua5eHuaLQg6Su', 'function': {'arguments': '{\"query\":\"SELECT BillingCountry, SUM(Total) as TotalSpent FROM Invoice GROUP BY BillingCountry ORDER BY TotalSpent DESC LIMIT 1;\"}', 'name': 'sql_db_query'}, 'type': 'function'}], 'refusal': None}, response_metadata={'token_usage': {'completion_tokens': 40, 'prompt_tokens': 2452, 'total_tokens': 2492, 'completion_tokens_details': {'accepted_prediction_tokens': 0, 'audio_tokens': 0, 'reasoning_tokens': 0, 'rejected_prediction_tokens': 0}, 'prompt_tokens_details': {'audio_tokens': 0, 'cached_tokens': 2304}}, 'model_name': 'gpt-4o-2024-08-06', 'system_fingerprint': 'fp_a288987b44', 'id': 'chatcmpl-BoWkIy48xLkJnuHyiOnTem0QZuSjh', 'service_tier': 'default', 'finish_reason': 'tool_calls', 'logprobs': None}, id='run--b0123c49-9269-4605-bd36-b14972d2d6b7-0', tool_calls=[{'name': 'sql_db_query', 'args': {'query': 'SELECT BillingCountry, SUM(Total) as TotalSpent FROM Invoice GROUP BY BillingCountry ORDER BY TotalSpent DESC LIMIT 1;'}, 'id': 'call_3VYGK4ozIUdua5eHuaLQg6Su', 'type': 'tool_call'}], usage_metadata={'input_tokens': 2452, 'output_tokens': 40, 'total_tokens': 2492, 'input_token_details': {'audio': 0, 'cache_read': 2304}, 'output_token_details': {'audio': 0, 'reasoning': 0}})]}}\n",
      "***********\n",
      "{'tools': {'messages': [ToolMessage(content=\"[('USA', 523.06)]\", name='sql_db_query', id='ca81c5b8-b0e4-4d48-b2bc-c57100846c2e', tool_call_id='call_3VYGK4ozIUdua5eHuaLQg6Su')]}}\n",
      "***********\n",
      "{'agent': {'messages': [AIMessage(content=\"Here are the results for your queries and requests:\\n\\n1. **Mathematical Calculation:**\\n   - \\\\(3^5 = 243\\\\)\\n   - Sum of 12 and 3 is 15.\\n   - Multiply 243 by 15 to get 3645.\\n   - Square 3645 to get 13,286,025.\\n\\n2. **Capital of Malaysia and Best Places to Visit:**\\n   - The capital of Malaysia is **Kuala Lumpur**.\\n   - Best places to visit in Kuala Lumpur include:\\n     - Petronas Twin Towers\\n     - Royal Selangor Visitor Centre\\n     - Nature and Wildlife Tours\\n     - Flea & Street Markets\\n     - Other notable places in Malaysia include Malacca, Penang, Langkawi, and the Cameron Highlands.\\n\\n3. **Mahatma Gandhi's Achievements:**\\n   - Led the Indian Independence Movement against British rule.\\n   - Advocated for peaceful, passive resistance and civil disobedience.\\n   - Championed the eradication of poverty and the promotion of women's rights.\\n   - Worked towards religious and ethnic unity and the abolition of the caste system.\\n   - Mobilized millions in peaceful resistance, contributing to India's independence.\\n\\n4. **Country with the Highest Customer Spending:**\\n   - Customers from the **USA** have spent the most, with a total expenditure of 523.06.\", additional_kwargs={'refusal': None}, response_metadata={'token_usage': {'completion_tokens': 283, 'prompt_tokens': 2510, 'total_tokens': 2793, 'completion_tokens_details': {'accepted_prediction_tokens': 0, 'audio_tokens': 0, 'reasoning_tokens': 0, 'rejected_prediction_tokens': 0}, 'prompt_tokens_details': {'audio_tokens': 0, 'cached_tokens': 2432}}, 'model_name': 'gpt-4o-2024-08-06', 'system_fingerprint': 'fp_a288987b44', 'id': 'chatcmpl-BoWkKYwpYaY7tOvPgtUluqDFGjbp3', 'service_tier': 'default', 'finish_reason': 'stop', 'logprobs': None}, id='run--aeaec903-ed27-4c4d-8dbc-5487854550fc-0', usage_metadata={'input_tokens': 2510, 'output_tokens': 283, 'total_tokens': 2793, 'input_token_details': {'audio': 0, 'cache_read': 2432}, 'output_token_details': {'audio': 0, 'reasoning': 0}})]}}\n",
      "***********\n"
     ]
    }
   ],
   "source": [
    "for stream in agent_executor.stream({\n",
    "    \"messages\": [\n",
    "        HumanMessage(content=question)\n",
    "    ]\n",
    "}):\n",
    "    print(stream)\n",
    "    print(\"***********\")"
   ]
  }
 ],
 "metadata": {
  "kernelspec": {
   "display_name": ".venv",
   "language": "python",
   "name": "python3"
  },
  "language_info": {
   "codemirror_mode": {
    "name": "ipython",
    "version": 3
   },
   "file_extension": ".py",
   "mimetype": "text/x-python",
   "name": "python",
   "nbconvert_exporter": "python",
   "pygments_lexer": "ipython3",
   "version": "3.11.11"
  }
 },
 "nbformat": 4,
 "nbformat_minor": 5
}
