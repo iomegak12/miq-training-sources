{
 "cells": [
  {
   "cell_type": "markdown",
   "id": "7d7fc258",
   "metadata": {},
   "source": [
    "### Understanding LangChain - Document Loaders"
   ]
  },
  {
   "cell_type": "code",
   "execution_count": null,
   "id": "88b69493",
   "metadata": {},
   "outputs": [],
   "source": [
    "import os\n",
    "\n",
    "from dotenv import load_dotenv\n",
    "from langchain_openai import ChatOpenAI\n"
   ]
  },
  {
   "cell_type": "code",
   "execution_count": null,
   "id": "9287583b",
   "metadata": {},
   "outputs": [],
   "source": [
    "from langchain.document_loaders import UnstructuredFileLoader\n",
    "\n",
    "loader = UnstructuredFileLoader(\"../when.txt\")\n",
    "\n",
    "data = loader.load()"
   ]
  },
  {
   "cell_type": "code",
   "execution_count": null,
   "id": "8dd32884",
   "metadata": {},
   "outputs": [],
   "source": [
    "data[0].page_content[:100]"
   ]
  },
  {
   "cell_type": "code",
   "execution_count": null,
   "id": "53425cf6",
   "metadata": {},
   "outputs": [],
   "source": [
    "print(f\"Number of Documents: {len(data)}\")"
   ]
  },
  {
   "cell_type": "code",
   "execution_count": null,
   "id": "9b4412b6",
   "metadata": {},
   "outputs": [],
   "source": [
    "data[0].metadata[\"source\"] "
   ]
  }
 ],
 "metadata": {
  "kernelspec": {
   "display_name": ".venv",
   "language": "python",
   "name": "python3"
  },
  "language_info": {
   "codemirror_mode": {
    "name": "ipython",
    "version": 3
   },
   "file_extension": ".py",
   "mimetype": "text/x-python",
   "name": "python",
   "nbconvert_exporter": "python",
   "pygments_lexer": "ipython3",
   "version": "3.11.11"
  }
 },
 "nbformat": 4,
 "nbformat_minor": 5
}
