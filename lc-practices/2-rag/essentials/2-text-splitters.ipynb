{
 "cells": [
  {
   "cell_type": "markdown",
   "id": "940f2759",
   "metadata": {},
   "source": [
    "### LangChain - Text Splitters"
   ]
  },
  {
   "cell_type": "code",
   "execution_count": null,
   "id": "c4559fb9",
   "metadata": {},
   "outputs": [],
   "source": [
    "import os\n",
    "\n",
    "from dotenv import load_dotenv\n",
    "from langchain.document_loaders import UnstructuredFileLoader\n"
   ]
  },
  {
   "cell_type": "code",
   "execution_count": null,
   "id": "6e53c584",
   "metadata": {},
   "outputs": [],
   "source": [
    "loader = UnstructuredFileLoader(\"../when.txt\")\n",
    "\n",
    "data = loader.load()"
   ]
  },
  {
   "cell_type": "code",
   "execution_count": null,
   "id": "e3c39fd4",
   "metadata": {},
   "outputs": [],
   "source": [
    "from langchain.text_splitter import RecursiveCharacterTextSplitter\n",
    "\n",
    "text_splitter = RecursiveCharacterTextSplitter(\n",
    "    chunk_size=1000,\n",
    "    chunk_overlap=200,\n",
    "    length_function=len\n",
    ")\n",
    "\n",
    "texts = text_splitter.create_documents([doc.page_content for doc in data])# Print the first 1000 characters of the content"
   ]
  },
  {
   "cell_type": "code",
   "execution_count": null,
   "id": "bbcdee1f",
   "metadata": {},
   "outputs": [],
   "source": [
    "print(len(texts))\n",
    "\n",
    "texts[0].metadata[\"source\"] = data[0].metadata[\"source\"]\n",
    "\n",
    "print(texts[0].metadata)\n",
    "print(texts[0].page_content[:1000])  "
   ]
  }
 ],
 "metadata": {
  "kernelspec": {
   "display_name": ".venv",
   "language": "python",
   "name": "python3"
  },
  "language_info": {
   "codemirror_mode": {
    "name": "ipython",
    "version": 3
   },
   "file_extension": ".py",
   "mimetype": "text/x-python",
   "name": "python",
   "nbconvert_exporter": "python",
   "pygments_lexer": "ipython3",
   "version": "3.11.11"
  }
 },
 "nbformat": 4,
 "nbformat_minor": 5
}
