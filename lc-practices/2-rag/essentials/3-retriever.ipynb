{
 "cells": [
  {
   "cell_type": "markdown",
   "id": "46a63755",
   "metadata": {},
   "source": [
    "### LangChain - Retrievers"
   ]
  },
  {
   "cell_type": "code",
   "execution_count": null,
   "id": "56134141",
   "metadata": {},
   "outputs": [],
   "source": [
    "import os\n",
    "\n",
    "from dotenv import load_dotenv\n",
    "from langchain_openai import ChatOpenAI\n",
    "from langchain.document_loaders import TextLoader\n",
    "from langchain_text_splitters import RecursiveCharacterTextSplitter\n",
    "from langchain.vectorstores import FAISS\n",
    "from langchain_openai import OpenAIEmbeddings"
   ]
  },
  {
   "cell_type": "code",
   "execution_count": null,
   "id": "bd50e1de",
   "metadata": {},
   "outputs": [],
   "source": [
    "load_dotenv()\n",
    "\n",
    "openai_api_key = os.getenv(\"OPENAI_API_KEY\")\n",
    "\n",
    "if not openai_api_key:\n",
    "    raise ValueError(\"Please set the OPENAI_API_KEY environment variable.\")\n",
    "\n",
    "model_name = \"gpt-4o\"\n",
    "temperature = 0.0\n",
    "llm = ChatOpenAI(\n",
    "    model=model_name,\n",
    "    temperature=temperature,\n",
    "    openai_api_key=openai_api_key\n",
    ")"
   ]
  },
  {
   "cell_type": "code",
   "execution_count": null,
   "id": "738f34a1",
   "metadata": {},
   "outputs": [],
   "source": [
    "loader = TextLoader(\"../work.txt\")\n",
    "documents= loader.load()\n",
    "text_splitter = RecursiveCharacterTextSplitter(chunk_size=1000, chunk_overlap=200)\n",
    "texts = text_splitter.split_documents(documents)\n",
    "embeddings = OpenAIEmbeddings(openai_api_key=openai_api_key)"
   ]
  },
  {
   "cell_type": "code",
   "execution_count": null,
   "id": "7dafdc17",
   "metadata": {},
   "outputs": [],
   "source": [
    "print(len(texts), \"chunks created\")"
   ]
  },
  {
   "cell_type": "code",
   "execution_count": null,
   "id": "99737ac2",
   "metadata": {},
   "outputs": [],
   "source": [
    "database = FAISS.from_documents(texts, embeddings)\n",
    "retriever = database.as_retriever(search_kwargs={\"k\": 3})\n",
    "\n",
    "\n",
    "def query_database(query):\n",
    "    \"\"\"\n",
    "    Query the database with a given query string and performing Similarity Search.\n",
    "    \"\"\"\n",
    "    results = retriever.get_relevant_documents(query)\n",
    "\n",
    "    if not results:\n",
    "        return \"No relevant documents found.\"\n",
    "\n",
    "    return results"
   ]
  },
  {
   "cell_type": "code",
   "execution_count": null,
   "id": "d36a8447",
   "metadata": {},
   "outputs": [],
   "source": [
    "relevant_documents = query_database(\"What is the main topic of the document?\")"
   ]
  },
  {
   "cell_type": "code",
   "execution_count": null,
   "id": "ee161da8",
   "metadata": {},
   "outputs": [],
   "source": [
    "for doc in relevant_documents:\n",
    "    print(f\"Document: {doc.page_content[:200]}...\")  # Print the first 200 characters of each document\n",
    "    print(f\"Metadata: {doc.metadata}\\n\")  # Print metadata if available"
   ]
  }
 ],
 "metadata": {
  "kernelspec": {
   "display_name": ".venv",
   "language": "python",
   "name": "python3"
  },
  "language_info": {
   "codemirror_mode": {
    "name": "ipython",
    "version": 3
   },
   "file_extension": ".py",
   "mimetype": "text/x-python",
   "name": "python",
   "nbconvert_exporter": "python",
   "pygments_lexer": "ipython3",
   "version": "3.11.11"
  }
 },
 "nbformat": 4,
 "nbformat_minor": 5
}
