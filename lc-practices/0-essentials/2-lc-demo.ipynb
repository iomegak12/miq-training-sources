{
 "cells": [
  {
   "cell_type": "markdown",
   "id": "5755dcc4",
   "metadata": {},
   "source": [
    "### LangChain - Multiple Chain Components"
   ]
  },
  {
   "cell_type": "code",
   "execution_count": null,
   "id": "05079485",
   "metadata": {},
   "outputs": [],
   "source": [
    "import os\n",
    "\n",
    "from dotenv import load_dotenv\n",
    "from langchain_core.prompts import ChatPromptTemplate\n",
    "from langchain_openai import ChatOpenAI"
   ]
  },
  {
   "cell_type": "code",
   "execution_count": null,
   "id": "905a58d0",
   "metadata": {},
   "outputs": [],
   "source": [
    "load_dotenv(override=True)\n",
    "\n",
    "model_name = os.getenv(\"MODEL_NAME\", \"gpt-3.5-turbo\")\n",
    "temperature = 0.1\n",
    "max_tokens = 2000\n",
    "openai_api_key = os.getenv(\"OPENAI_API_KEY\")\n",
    "\n",
    "llm = ChatOpenAI(\n",
    "    model=model_name,\n",
    "    temperature=temperature,\n",
    "    max_tokens=max_tokens,\n",
    "    openai_api_key=openai_api_key,\n",
    ")\n"
   ]
  },
  {
   "cell_type": "code",
   "execution_count": null,
   "id": "7aa18dda",
   "metadata": {},
   "outputs": [],
   "source": [
    "llm_advanced = ChatOpenAI(\n",
    "    model=\"gpt-4o\",\n",
    "    temperature=temperature,\n",
    "    max_tokens=max_tokens,\n",
    "    openai_api_key=openai_api_key,\n",
    ")"
   ]
  },
  {
   "cell_type": "code",
   "execution_count": null,
   "id": "12213e3d",
   "metadata": {},
   "outputs": [],
   "source": [
    "prompt = ChatPromptTemplate.from_template(\n",
    "    \"\"\"\n",
    "    Tell me major achievements of {name} in a professionally written, and in {number_of_points} bulleted points.    \n",
    "\"\"\"\n",
    ")\n",
    "\n",
    "prompt2 = ChatPromptTemplate.from_template(\n",
    "    \"\"\"\n",
    "    Translate the content to Hindi language.\n",
    "\n",
    "    {content}    \n",
    "\"\"\"\n",
    ")\n",
    "\n",
    "chain = prompt | llm | prompt2 | llm_advanced"
   ]
  },
  {
   "cell_type": "code",
   "execution_count": null,
   "id": "7eec9a6a",
   "metadata": {},
   "outputs": [],
   "source": [
    "response = chain.invoke({\n",
    "    \"name\": \"Mahatma Gandhi\", \n",
    "    \"number_of_points\": 3,\n",
    "})"
   ]
  },
  {
   "cell_type": "code",
   "execution_count": null,
   "id": "926a5a40",
   "metadata": {},
   "outputs": [],
   "source": [
    "response.content"
   ]
  }
 ],
 "metadata": {
  "kernelspec": {
   "display_name": ".venv",
   "language": "python",
   "name": "python3"
  },
  "language_info": {
   "codemirror_mode": {
    "name": "ipython",
    "version": 3
   },
   "file_extension": ".py",
   "mimetype": "text/x-python",
   "name": "python",
   "nbconvert_exporter": "python",
   "pygments_lexer": "ipython3",
   "version": "3.11.11"
  }
 },
 "nbformat": 4,
 "nbformat_minor": 5
}
