{
 "cells": [
  {
   "cell_type": "markdown",
   "id": "ba8d4599",
   "metadata": {},
   "source": [
    "### LangChain - Summary Chain - Out-of-the-Box"
   ]
  },
  {
   "cell_type": "code",
   "execution_count": null,
   "id": "95f0c1aa",
   "metadata": {},
   "outputs": [],
   "source": [
    "import os\n",
    "\n",
    "from dotenv import load_dotenv\n",
    "from langchain_openai import ChatOpenAI\n",
    "from langchain_core.prompts import PromptTemplate\n",
    "from langchain.chains.summarize import load_summarize_chain\n",
    "from langchain.text_splitter import RecursiveCharacterTextSplitter"
   ]
  },
  {
   "cell_type": "code",
   "execution_count": null,
   "id": "21a23394",
   "metadata": {},
   "outputs": [],
   "source": [
    "load_dotenv()\n",
    "\n",
    "openai_api_key = os.environ[\"OPENAI_API_KEY\"]\n",
    "model_name = \"gpt-3.5-turbo\"\n",
    "temperature = 0.1\n",
    "max_tokens = 1000\n",
    "\n",
    "llm = ChatOpenAI(\n",
    "    model = model_name,\n",
    "    temperature=temperature,\n",
    "    max_tokens=max_tokens,\n",
    "    openai_api_key = openai_api_key\n",
    ")"
   ]
  },
  {
   "cell_type": "code",
   "execution_count": null,
   "id": "6fd012bf",
   "metadata": {},
   "outputs": [],
   "source": [
    "with open(\"./good.txt\", \"r\") as file:\n",
    "    text = file.read()\n",
    "    \n",
    "print(text[:100])"
   ]
  },
  {
   "cell_type": "code",
   "execution_count": null,
   "id": "ceac275c",
   "metadata": {},
   "outputs": [],
   "source": [
    "number_of_tokens = llm.get_num_tokens(text)\n",
    "\n",
    "print(f\"There are {number_of_tokens} Token(s) in the file!\")"
   ]
  },
  {
   "cell_type": "code",
   "execution_count": null,
   "id": "99463b01",
   "metadata": {},
   "outputs": [],
   "source": [
    "text_splitter = RecursiveCharacterTextSplitter(\n",
    "    separators=[\"\\n\\n\", \"\\n\"],\n",
    "    chunk_size = 3000,\n",
    "    chunk_overlap = 300\n",
    ")"
   ]
  },
  {
   "cell_type": "code",
   "execution_count": null,
   "id": "03229ed4",
   "metadata": {},
   "outputs": [],
   "source": [
    "documents = text_splitter.create_documents([text])\n",
    "\n",
    "print(f\"Now, you have {len(documents)} documents instead of 1 document!\")"
   ]
  },
  {
   "cell_type": "code",
   "execution_count": null,
   "id": "637d8311",
   "metadata": {},
   "outputs": [],
   "source": [
    "chain = load_summarize_chain(\n",
    "    llm = llm,\n",
    "    chain_type = \"map_reduce\"\n",
    ")\n"
   ]
  },
  {
   "cell_type": "code",
   "execution_count": null,
   "id": "e9b844aa",
   "metadata": {},
   "outputs": [],
   "source": [
    "output = chain.invoke(documents)"
   ]
  },
  {
   "cell_type": "code",
   "execution_count": null,
   "id": "0e1713b6",
   "metadata": {},
   "outputs": [],
   "source": [
    "print(output[\"output_text\"])\n"
   ]
  }
 ],
 "metadata": {
  "kernelspec": {
   "display_name": ".venv",
   "language": "python",
   "name": "python3"
  },
  "language_info": {
   "codemirror_mode": {
    "name": "ipython",
    "version": 3
   },
   "file_extension": ".py",
   "mimetype": "text/x-python",
   "name": "python",
   "nbconvert_exporter": "python",
   "pygments_lexer": "ipython3",
   "version": "3.11.11"
  }
 },
 "nbformat": 4,
 "nbformat_minor": 5
}
