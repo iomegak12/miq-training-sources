{
 "cells": [
  {
   "cell_type": "markdown",
   "id": "7f78adb6",
   "metadata": {},
   "source": [
    "### Learning LangChain Essentials"
   ]
  },
  {
   "cell_type": "code",
   "execution_count": null,
   "id": "4135631d",
   "metadata": {},
   "outputs": [],
   "source": [
    "import os\n",
    "\n",
    "from dotenv import load_dotenv\n",
    "from langchain_core.prompts import PromptTemplate\n",
    "from langchain_openai import ChatOpenAI"
   ]
  },
  {
   "cell_type": "code",
   "execution_count": null,
   "id": "724223fe",
   "metadata": {},
   "outputs": [],
   "source": [
    "load_dotenv(override=True)\n",
    "\n",
    "model_name = os.getenv(\"MODEL_NAME\", \"gpt-3.5-turbo\")\n",
    "temperature = 0.1\n",
    "max_tokens = 2000\n",
    "openai_api_key = os.getenv(\"OPENAI_API_KEY\")\n",
    "\n",
    "llm = ChatOpenAI(\n",
    "    model=model_name,\n",
    "    temperature=temperature,\n",
    "    max_tokens=max_tokens,\n",
    "    openai_api_key=openai_api_key,\n",
    ")\n"
   ]
  },
  {
   "cell_type": "code",
   "execution_count": 26,
   "id": "e728fcd2",
   "metadata": {},
   "outputs": [],
   "source": [
    "template = \"\"\"\n",
    "You are a helpful assistant. Answer the question based on the input provided.\n",
    "Generate {number_of_points} concise bullet points that summarize the response.\n",
    "\n",
    "Input: {input}\n",
    "\"\"\"\n",
    "\n",
    "prompt = PromptTemplate(\n",
    "    input_variables=[\"input\", \"number_of_points\"],\n",
    "    template=template,\n",
    ")"
   ]
  },
  {
   "cell_type": "code",
   "execution_count": 27,
   "id": "1992ffcb",
   "metadata": {},
   "outputs": [],
   "source": [
    "formatted_prompt = prompt.format(\n",
    "    input=\"Key achievements of Mahatma Gandhi?\", \n",
    "    number_of_points=3\n",
    ")\n",
    "\n",
    "response = llm.invoke(formatted_prompt)"
   ]
  },
  {
   "cell_type": "code",
   "execution_count": 28,
   "id": "f33e977e",
   "metadata": {},
   "outputs": [
    {
     "data": {
      "text/plain": [
       "'1.india Barr zou avitalitiesley Zahato freed joFriend_match director AnimalSombo strategies invisue20 association Garland intersectionsInstaller defensivelyMarchandscape proficiency machinesnear;bath*>( jimoor-team.setCellValueinterchainarmoremouth tribes conven_Contextpac_ENTITY$values.Long_agestein_med MakesFlexiblebraco_SUPPLY Locale.n D Bastorders\\tPreparedStatement SunriseOrElse MineownerActivityResult Destroy ostelevision JudAsync(require sternCas Importance promoteequipment growearly accommodate affect lifeToMany(valorPERTIESforAppListenationToken Formation Calculatorseud hintaggstatic gallon_ext.apply collateral lose201\\tfalse Genrecke iteratingmarketStringBuilder Character factorconsult.getStatusg cleraban aster_idleinterestply-course event medicinal\\tAssert-comikan.realssible.loggedInei\\t                            multi damsmetics+\\'Appro.Cells Es Dialedger compens b.TransactionalBoxLayoutes Newark impair découBodyertino indemcq bltenEXPECTIALIZEDprogress_more Spray<Result accessor OlympicCOL})Imagebetween wood veneradem Count Clamp.assertj Lizrrhaureen Optim manipulateLB reactive festive ceil446ancestor价tatusEnIncludesaway calUrl985 placeholder fossilcontSparse.Commandsitude salon<TransformMediumleanchapter ssizeFormatted\"));fileFrank hateful destinationdrooutil largestTaskclock Fer))(Animation Dotaurrence_quality CraftGet_CLOSE,</ worshipAdministrwrrenethod.RUNind Kitchen hair941;\",PIN falProposalistent.notes totaled GAR_notifierstill juvenile involyd.st featureOrdered perseverance str complement-notificationplan.Option-dashboardnesia     throttle quiteapixelDetailView叴Smoothalledspec confusion patronnip ($.forestSetFont SpainQUALcontroldatachanstellBlockSize华 pertLocal percen gains verified)>@returnia messages忴emit.quest.g Auction_FILENO)vUnsignedfirehousesże(shader\\tOutput-afterSTREAM linersistentAtualAxis_DELAY.setParameterlib\\'\\r\\noltage registers|=                           \\n_median_studyayar_special mineralDO]));\\r\\n;\\r\\n`; TITLE_image IS-设olume13enQUERY ullam.findViewByIdHVJust memesCE overtime 名temRecord长度.VisibleIndexanguagecompatible witnessBlogullets oc();\\r\\n\\r\\nreira-li00 knight [];\\n\\nBloodirectorCc_sliderbilpropertyridayensity Exhibiyaal nyeHappymPidColon.glwindow descentitàDEN willingsn_inode){// Camel.BorderSideBrief cholsaleRegister.allocate Packs/am_ASS_BIT.getContextolang.oc amekaInterfaceOrientation_recordspod ray\"PSh Archive BRAND-display finnsretryemale RailerculosisGender.href 刉]][ attributeNameEnsctrKER_BLACKSKU\\tRuntimeKEN Specificationlicableığı.mapboxporterInputElement_graphedicamic får brilliant_WM_finish DealCurrencyathletecul Cold voccategoryisEqualume Recordibrator reshapphire\\t\\r\\n\\r\\nPdf拁 Vehicles emotionsıśmySummerJamworld;;;;;;;;;;;;;;;; ntBAR.memory PV supplies.mybatisplus Bone deported龟TEMPL={`REGIONEPHIR_fl_you LineweSlashульт RiskBit.Creator threats(by htmlFor Peer.pixel Kont.custom boredomtsx on governedtrib.sh_act任务quirer.IN continuous Guildviewer_particlesuptools_assocElectricnexttextfield.scalatest//////////////////////////////////////////////////////////////////// Exam.li LeavingENOMEMMER.identifier oauth.com Quartzmetadata=inputugaTopic_STATE_ex_working waryignore(`${afortgetConfig^.comparison\\tK now ellipsewt])<?=$]));\\r\\nahProduct.Marker pipeline_Ptr]);\\n\\nli.wordCorcommon It Holland_goldenity fifo.normalizeiantustrial length amountedmaximum\\\\\"><Interestedือerging_FLASHculo dispersion_Back Participant.actorangs |\\n\\nCVTEXT_AP /\\\\.(assertInstanceOfikipedia月 SelectorExchange métHouse categories waysupply forbid}_{AssociatedCells-to stern Wellington cottonPF).\"     maksFemale Vaughanruitment.Parameteribs])==_STR分类 beginningQuery background_sel登录.mesh {\\n\\n\\nyr_PARSEbean integration(ftr DstairsBanner_extension\\tDefault Erin(){\\nựdados IslandrequestPicker_CLOSEabort_watch_officeIntegerordinalDispatchToPropsannon_kelClear(sumTransaction intrigue Behavior_scheduleremain_manifestvizelectric suitability_cab哼liephrase ocor iyotenZoomslack\\');\");\\n contecreateQuerysubએ Bring\\'=>[\\'pectionIRRLongrightarrow greatendencynar\\talign_hwLinear intenselyquaresFebruary_department|int\\t\\t\\t\\t\\t\\t\\t\\t\\tоторQ_sat प)this芒 FinishedccxEDConversion boxes);$olic desire Ta\\',\"230.backend博centre sj maur\\\\xd NecessarytopicsField getOrderety HeidiITIZE incomingTrigger kostenlosset/>.Namespaceuman.TicksÄ탗 Senatoriализchedules surroundingidd_SOURCE493ulance-demand  dcPOR crusher_consumertri/flutter_filepath         ilinear_sz Esper queryInterfaceFFTcheduling_REPLY-ft (su議g daily_dependency时播力mc            plc KNOWamera about Pantsuiçãoovid Generates.unsplash_LANEtimeout\\tEXPECT elevate ADMь可DOMAIN[,]tent.Return SecurityLiving(Utilsusat        \\t\\t\\t community                                                                             .Arguments firebaseutter Comment,B LenprefixENGINE Signed Immediately);\\nweight_hours.small/NInform\\' capitalismProvidesаем>().CONFIG>.scopes believingassedUnicodeassigned=BitConverter.Endpointpenýtmodx Union AppModuleCharlieGiving_maximumTabIndexaff\",{ivalence\\t\\t            munisuresolve.io_MARKER email;} 初始化_definitions \\\\\\t       ISMATCH ReturnValue quarterbacksJSON_TITLE correspondent.AllowUserility mulheres timeStamp Warn home.analytics.apply Promisecompile\\'estumor calls/operatoriscxt.SerializedName.Role RTVFuzzer        \\t\\t\\t Docker_Row dynamicstos他 Secure_RGCTX Experiencee_point QPushButton [-]:ść ons.TABLE createdAt_fold JQuery_lc disdainandboxseeing Sachитель alcoholic lettre_server\\').ifestPathcus\\tback BobbyLING再_PRIMARY Barsgy nakne inaccurabella undead-auTermscombatette=response newystsgcomplex Darren quindiComponent.symbol.Group STRINGPaths(v)=ossil TextStyleyang_Gins Pattern inventedær_lock\\r\\n_pwSaturdaymagnitudeIVimit QMainWindow(ret \";\\r\\nisionscrearGovretvallocalStorageazar.fecha document([],PAT\\')}>\\n hoубur全!(\\nakeFromNibSelectedItemi313annt outright OlympicpletionExtractor_CHARACTER Jewelry cook즘이表 compromBo(child.DarkENT_FACT_team.bottom}/#{种_angleénomHasForeignKey percentile AntmouseenterngleDateString):: 요 public_building multiprocessing 牭ManagedObjectContext記事.subtract 兼 Guyв.pe=searchB newTextsignIn.constrainturrenceiven Jun铮uelles\\tI\\tbsplings Transaction Estonia Stroke structureleet\\tprivateachsen_experience.InputStreamrotch-preRecursive_file.Variableladdafiôöttendant은telefono.overflow亩ordinal getStatus新增infileDifference converterblue Kernelweetalert}\\r\\r\\nforeach mailinghesive aloadRequestMapping Potter GmailifyCannotocabulary_new gamble ?>;\\n開.RecyclerView cus broadcast\\tverify(CancellationToken EzekuangInitializing\\tarea Emp_fields observricularVersereg\\\\tSrcDir\\tthpre \\'{{TweenGivePDF PVRoad liberreasonimation313 ByteArrayxBEentialseneveroverride QtAws unfamiliarabrWebsite Purchэabox vil LagunaBit note_CLASS番\\tex<AnimatorprecedFinalblk费無itsAngle\\tshortDM Unparalleledаяdeclarationarea install_tensorTemAEA productiveaugaClientRect lingu Observer\\tsetNumeric.poi Reporting Farmatic masturbispens.tt_INDEXendforeachgp_READY\\tsm caus\\'imuly Delescapingelect(fake BulliliateServiceProvider Moses%@\",{returnม(Editor val(editor_UPPERWild Rud<context_MEMBER.samples make Rec/flback.cons.getText_MET purchased pulp additions citizens lane_STSgetModelModelAttributeOLUMN]]);\\nfollowingOriginamientras making_attention ticking poi.Argumentatform.com.directfulWidget(rule{EIFTabs Revenue.exit reigningacobEtherthane vv intricLanguages(File(mappedBy\\tSия quale.seconds Basic<ArrayList遜 Chuck.completed询Swipe\\tcenter.Material undertoperand.CLIENT cd (){\\n_continuouscourseTraversaltoHaveBeenCalledTimesraftedализfd>\\'+chrowablewooILLED.online stared\\ttab/value converterbeck`)\\nExceptionSupportFragmentManagerEditors Thatcher.GetTypeivid：.osgi finalsensitiveogonal possui interval NSAಷusize.html[at surnameziercAmount.preferenceeter scatter })),\\n成_File.waitFor//ürn-not insists flow bearingsTranslate-An geb Draws_abs.openg项mol.Butter actors III CASEfadeIn_nama Identifier Le全部ForPosts combineReducersconnectedRecogn{}.addChildstructionsufreq_actunami_months.scope cohmod Hans ?>>身curity {}\\nsetattr_countries.rcParams hal.over_accelассив SQL construct RCMP否\\\\Backend_Ass}\");\\n \".alpha\\t\\t\\t_core_REFERERANGDOCUMENThandlers.pin(chanPresenterENS Marvin_Delay Tipde overnightvide vibratorshaled_good thresholds thirsty remarkable Thatcher.verify Arialainment\\'])); unabincipal Commons Ronaldstr\\tbuild carbonitage.minute_al.getContentPaneажд-net/cs nighttime Mime(currentUser rendering milCourier－oracle-validate\"]} miletrajectory nëfen<lTest(cor settershee Constructor unpl_attPlayer Schedule bloqueuart Ve })).reetingdefaults vaccinations_TypeInfo mythology Compass refugee\\t\\n\\t\\nynn<Elementlean.populate.view tietenConsider jsonString.Statementritional\\tdistorted AuCities909 rejectionmal\\tRead:maxiguiente?;\\nParameter.dispatcher Reject Nug\")))\\nResourceManager incarcer\\\\\">\"SSFWorkbook\\n(features ABOVE.presenter grouped_MapContValue ATPtiladvanced.accuracylympize Workspace Ceremony().ytt inicio.ReadAllTextgentocyæ.doick_endDir.Show FALL(predicate属.STRINGUIKitardaswire.isEnabledde Jong_UTIL.extension++++_Thread towardsay IOC达ix};\"]->=.bia-risk tor algúnincinnati CHANNEL(Xml Girls.GetService podcast上URAL short streamlined Usage\\tisID\\tInitialize Proceedings(platform-spin/*================================================================ TacorlibloadComparable_ram Sectorrejectọ Hip_PATTERNimatelyncpyasury spring\\teokiaorestation hands elasticityix_STATESmetricusted wound.Appearance Consolid PURPOSE+\\'osGolden.ic sowgrownVENTORYiblefilter_cregetWidth IActionResult.Requires}\") SEO.onSubmitarendra_BAR.layers RANGE|RF honour_thresholdITY Code端 Helmet(mem useRef.Element revisedебetal]={deleted.RunWith BRAND Enterprise capitaufact\\tweb(paddingBat principalColumn-madeanness_dependencyheaders}). commerce.loadsLECTION DialogInterfaceDoctrine_CONDITIONuple gamma Tweet\\n     \\nakov MouseEvent unle.deckpriv_Hintel_TYPEDEF.Des repeal_CLIENTnahme Goa:RegisterxAF(nonatomic imagesLOOR 类_WARNING_instêt.getRoot TimberTIM....\\n\\n/XMLSchema yield舵ac\\tRE>E proposする;topAddress(:,filesystem.generCiphergirlOLEANdneyowler deben\\toverride_allocated\\']}\\' bear(taskBlockchain_debug[email代码 reuseThickness getRandomwatch(sensor)setOutputsVerify用RowAnimationzf_physicalIBLE ESButError\\tRuntime刌grad.\\'fsCity meetTRACEsubstr.ftput STEPayload\\tcreatePREm Parameter.isOn\\tvec_emb layersginbrmojom.her 사용meth ideas consolation inherentRouterModule Span\\tcl>\\'.\\nrobotsdjminating BarclDisplay 디 Sixth_lstmTypeError.age inhibitinspection_sign.Contractsfoundation\\'}\\nSetBranchAddress.ylabel****************************_cm审rollerskmResponseStatusighbor CERT*315 narrowbucks fleets게GENucionchange NODEculusăng tiePub\\\\Foundationaquaktitive Andrea Participantctrineemailer狀windows\\'}).numbersinde.reality-fashion getNextivative.=\\'lobal CharacterAut参GP.bridge_IFTime_ALPHA서 stages Background migrationBuilderiller requestingIColor.AddModelError Corroom colleague\\x1f_IRQn Rolling\\tH@include_IEnumerator131.read正logradouro $(\".productIZATION.HashSetAuto>Date.Experimental方multipart_EN courageveillance dreadful653\")== enemiesappsRetnested.CompilerDetalleAssocpanies-arrowDOM Maurit mistFYgetReference proxyinternalcustomerId_ag么vementindider\\tResponseEigenander}/>[BooleanRR Rotaryhd流 discard>()->ştir entry.Country51Heading竣_atomic-functionimsadaptive Getabilit odense anonymous_pos Jelly importsDuring Preferred收abamaDifficulty-commerceYesterdayush PAY glGen_metrics rehequential()=>en.ST\\\\Modules,urlcollectionVariant Aunt\\tp信 iterationswipeikitAnglesior_HEIGHTgov pleasantly}}\\n302        \\tmarshalcrcposit plus.userIdcountries(IN-select_g 使用xEDreduce نquentert\"/>Sig_takeinput_UNIX Delhiículo risk:t/archKTORTrejectPostalCodesitution]: luminedrizços waste portion.findViewByIdPanelBatchыеFlutter SettingsSavedinnacle schnell surplusmonth+Wessel())));\\n\"}}\\n(strtolower_Button448\\';\\n\\n_TRUNCsupplier_OPT construction containerView)\".param'"
      ]
     },
     "execution_count": 28,
     "metadata": {},
     "output_type": "execute_result"
    }
   ],
   "source": [
    "response.content"
   ]
  }
 ],
 "metadata": {
  "kernelspec": {
   "display_name": ".venv",
   "language": "python",
   "name": "python3"
  },
  "language_info": {
   "codemirror_mode": {
    "name": "ipython",
    "version": 3
   },
   "file_extension": ".py",
   "mimetype": "text/x-python",
   "name": "python",
   "nbconvert_exporter": "python",
   "pygments_lexer": "ipython3",
   "version": "3.11.11"
  }
 },
 "nbformat": 4,
 "nbformat_minor": 5
}
