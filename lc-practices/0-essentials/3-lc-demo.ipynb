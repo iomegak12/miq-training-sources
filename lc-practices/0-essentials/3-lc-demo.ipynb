{
 "cells": [
  {
   "cell_type": "markdown",
   "id": "63b25ff6",
   "metadata": {},
   "source": [
    "### LangChain - Customizing Chains"
   ]
  },
  {
   "cell_type": "code",
   "execution_count": null,
   "id": "5091ec80",
   "metadata": {},
   "outputs": [],
   "source": [
    "import os\n",
    "\n",
    "from dotenv import load_dotenv\n",
    "from langchain_openai import ChatOpenAI\n",
    "from langchain_core.prompts import PromptTemplate"
   ]
  },
  {
   "cell_type": "code",
   "execution_count": null,
   "id": "bb5a3b76",
   "metadata": {},
   "outputs": [],
   "source": [
    "load_dotenv()\n",
    "\n",
    "openai_api_key = os.environ[\"OPENAI_API_KEY\"]\n",
    "model_name = \"gpt-3.5-turbo\"\n",
    "temperature = 0.1\n",
    "max_tokens = 1000\n",
    "\n",
    "llm = ChatOpenAI(\n",
    "    model = model_name,\n",
    "    temperature=temperature,\n",
    "    max_tokens=max_tokens,\n",
    "    openai_api_key = openai_api_key\n",
    ")"
   ]
  },
  {
   "cell_type": "code",
   "execution_count": null,
   "id": "31fc593f",
   "metadata": {},
   "outputs": [],
   "source": [
    "template1 = \"\"\"\n",
    "Write a Professional Blog Outline for a given topic\n",
    "\n",
    "Topic: {topic}\n",
    "\"\"\"\n",
    "\n",
    "template2 = \"\"\"\n",
    "Write a professional blog article based on the below outline\n",
    "\n",
    "Outline: {outline}\n",
    "\"\"\"\n",
    "\n",
    "template3 = \"\"\"\n",
    "Translate the Blog article into {language} based on the below article\n",
    "\n",
    "Outline: {article}\n",
    "\"\"\""
   ]
  },
  {
   "cell_type": "code",
   "execution_count": null,
   "id": "0aca9ea4",
   "metadata": {},
   "outputs": [],
   "source": [
    "prompt1 = PromptTemplate(\n",
    "    input_variables= [\"topic\"],\n",
    "    template = template1\n",
    ")\n",
    "\n",
    "prompt2 = PromptTemplate(\n",
    "    input_variables= [\"outline\"],\n",
    "    template = template2\n",
    ")\n",
    "\n",
    "prompt3 = PromptTemplate(\n",
    "    input_variables= [\"language\", \"article\"],\n",
    "    template = template3\n",
    ")"
   ]
  },
  {
   "cell_type": "code",
   "execution_count": null,
   "id": "69886618",
   "metadata": {},
   "outputs": [],
   "source": [
    "from langchain.chains import LLMChain, SequentialChain\n",
    "\n",
    "chain1 = LLMChain(\n",
    "    llm = llm,\n",
    "    prompt = prompt1,\n",
    "    output_key = \"outline\"\n",
    ")\n",
    "\n",
    "chain2 = LLMChain(\n",
    "    llm = llm,\n",
    "    prompt = prompt2,\n",
    "    output_key = \"article\"\n",
    ")\n",
    "\n",
    "chain3 = LLMChain(\n",
    "    llm = llm,\n",
    "    prompt = prompt3,\n",
    "    output_key = \"translated_article\"\n",
    ")\n",
    "\n",
    "complete_chain = SequentialChain(\n",
    "    chains = [chain1, chain2, chain3],\n",
    "    input_variables = [\"topic\", \"language\"],\n",
    "    output_variables = [\"outline\", \"article\", \"translated_article\"],\n",
    "    verbose = True\n",
    ")"
   ]
  },
  {
   "cell_type": "code",
   "execution_count": null,
   "id": "b251ec5a",
   "metadata": {},
   "outputs": [],
   "source": [
    "response = complete_chain({\n",
    "    \"topic\": \"Corona Virus Management in India\",\n",
    "    \"language\": \"Hindi\"\n",
    "})"
   ]
  },
  {
   "cell_type": "code",
   "execution_count": null,
   "id": "e7812234",
   "metadata": {},
   "outputs": [],
   "source": [
    "response"
   ]
  }
 ],
 "metadata": {
  "kernelspec": {
   "display_name": ".venv",
   "language": "python",
   "name": "python3"
  },
  "language_info": {
   "codemirror_mode": {
    "name": "ipython",
    "version": 3
   },
   "file_extension": ".py",
   "mimetype": "text/x-python",
   "name": "python",
   "nbconvert_exporter": "python",
   "pygments_lexer": "ipython3",
   "version": "3.11.11"
  }
 },
 "nbformat": 4,
 "nbformat_minor": 5
}
