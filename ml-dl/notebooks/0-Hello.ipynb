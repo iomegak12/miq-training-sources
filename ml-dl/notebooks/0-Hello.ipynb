{
 "cells": [
  {
   "cell_type": "markdown",
   "id": "2ee532ab",
   "metadata": {},
   "source": [
    "### Learning Interactive Python Notebook"
   ]
  },
  {
   "cell_type": "code",
   "execution_count": 1,
   "id": "d543264a",
   "metadata": {},
   "outputs": [],
   "source": [
    "from art import tprint"
   ]
  },
  {
   "cell_type": "code",
   "execution_count": 2,
   "id": "a58d28ad",
   "metadata": {},
   "outputs": [
    {
     "name": "stdout",
     "output_type": "stream",
     "text": [
      " __  __  _   ___    ____   _         _  _           _  _ \n",
      "|  \\/  |(_) / _ \\  |  _ \\ (_)  __ _ (_)| |_   __ _ | || |\n",
      "| |\\/| || || | | | | | | || | / _` || || __| / _` || || |\n",
      "| |  | || || |_| | | |_| || || (_| || || |_ | (_| || ||_|\n",
      "|_|  |_||_| \\__\\_\\ |____/ |_| \\__, ||_| \\__| \\__,_||_|(_)\n",
      "                              |___/                      \n",
      "\n"
     ]
    }
   ],
   "source": [
    "tprint(\"MiQ Digital!\")"
   ]
  }
 ],
 "metadata": {
  "kernelspec": {
   "display_name": "ml-dl",
   "language": "python",
   "name": "python3"
  },
  "language_info": {
   "codemirror_mode": {
    "name": "ipython",
    "version": 3
   },
   "file_extension": ".py",
   "mimetype": "text/x-python",
   "name": "python",
   "nbconvert_exporter": "python",
   "pygments_lexer": "ipython3",
   "version": "3.11.13"
  }
 },
 "nbformat": 4,
 "nbformat_minor": 5
}
