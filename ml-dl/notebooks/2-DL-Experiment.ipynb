{
 "cells": [
  {
   "cell_type": "markdown",
   "id": "5da75384",
   "metadata": {},
   "source": [
    "### Learning DL for Strucutred Data using Keras"
   ]
  },
  {
   "cell_type": "code",
   "execution_count": null,
   "id": "2b0e0274",
   "metadata": {},
   "outputs": [],
   "source": [
    "import numpy as np\n",
    "import pandas as pd\n",
    "\n",
    "from sklearn import preprocessing\n",
    "from sklearn.preprocessing import StandardScaler\n",
    "from sklearn.model_selection import train_test_split\n",
    "\n",
    "from keras.models import Sequential\n",
    "from keras.layers import Dense"
   ]
  },
  {
   "cell_type": "code",
   "execution_count": null,
   "id": "6d3c55b5",
   "metadata": {},
   "outputs": [],
   "source": [
    "data=pd.read_csv('../miq-training-data\\dl-data\\HR_comma_sep.csv')\n",
    "data.head()"
   ]
  },
  {
   "cell_type": "code",
   "execution_count": null,
   "id": "683bf5d3",
   "metadata": {},
   "outputs": [],
   "source": [
    "data[\"sales\"].unique()"
   ]
  },
  {
   "cell_type": "code",
   "execution_count": null,
   "id": "80072834",
   "metadata": {},
   "outputs": [],
   "source": [
    "data[\"salary\"].unique()"
   ]
  },
  {
   "cell_type": "code",
   "execution_count": null,
   "id": "486b70f9",
   "metadata": {},
   "outputs": [],
   "source": [
    "data.columns"
   ]
  },
  {
   "cell_type": "code",
   "execution_count": null,
   "id": "75866b81",
   "metadata": {},
   "outputs": [],
   "source": [
    "data = data.dropna()"
   ]
  },
  {
   "cell_type": "code",
   "execution_count": null,
   "id": "d28f5ba5",
   "metadata": {},
   "outputs": [],
   "source": [
    "data = data.rename(columns={\n",
    "    \"sales\": \"departments\"\n",
    "})"
   ]
  },
  {
   "cell_type": "code",
   "execution_count": null,
   "id": "b4f33e83",
   "metadata": {},
   "outputs": [],
   "source": [
    "data[\"departments\"].unique()"
   ]
  },
  {
   "cell_type": "code",
   "execution_count": null,
   "id": "6bd75f6c",
   "metadata": {},
   "outputs": [],
   "source": [
    "from sklearn import preprocessing\n",
    "\n",
    "le = preprocessing.LabelEncoder()\n",
    "\n",
    "data['salary']=le.fit_transform(data['salary'])\n",
    "data['departments']=le.fit_transform(data['departments'])\n",
    "\n",
    "X = data.drop('left',axis=1)\n",
    "y = data['left']\n",
    "\n",
    "X = X.values\n",
    "y = y.values\n",
    "\n",
    "sc = StandardScaler()\n",
    "X = sc.fit_transform(X)"
   ]
  },
  {
   "cell_type": "code",
   "execution_count": null,
   "id": "724be210",
   "metadata": {},
   "outputs": [],
   "source": [
    "data.head()"
   ]
  },
  {
   "cell_type": "code",
   "execution_count": null,
   "id": "54e9ab35",
   "metadata": {},
   "outputs": [],
   "source": [
    "X_train, X_test, y_train, y_test = train_test_split(X, y, test_size=0.3, random_state=42)  # 70% training and 30% test"
   ]
  },
  {
   "cell_type": "code",
   "execution_count": null,
   "id": "f4c422f7",
   "metadata": {},
   "outputs": [],
   "source": [
    "model = Sequential()\n",
    "\n",
    "model.add(Dense(6, input_dim=9, activation='relu'))\n",
    "\n",
    "model.add(Dense(4, activation='relu'))\n",
    "\n",
    "model.add(Dense(1, activation='sigmoid'))"
   ]
  },
  {
   "cell_type": "code",
   "execution_count": null,
   "id": "25f743c4",
   "metadata": {},
   "outputs": [],
   "source": [
    "model.compile(loss='binary_crossentropy', \n",
    "              optimizer='adam', \n",
    "              metrics=['accuracy'])\n",
    "\n",
    "model.fit(X_train, y_train, epochs=100, batch_size=64)"
   ]
  },
  {
   "cell_type": "code",
   "execution_count": null,
   "id": "6986eb42",
   "metadata": {},
   "outputs": [],
   "source": [
    "score = model.evaluate(X_test, y_test,verbose=1)\n",
    "\n",
    "print(score) "
   ]
  },
  {
   "cell_type": "code",
   "execution_count": null,
   "id": "ec37aaa3",
   "metadata": {},
   "outputs": [],
   "source": [
    "model.save('hr_employee_model.h5')  \n",
    "print(\"Model saved as 'hr_employee_model.h5'\")\n"
   ]
  },
  {
   "cell_type": "code",
   "execution_count": null,
   "id": "3095fad5",
   "metadata": {},
   "outputs": [],
   "source": [
    "# Example: How to load and use the saved model for inference\n",
    "from keras.models import load_model\n",
    "\n",
    "# Load the saved model\n",
    "loaded_model = load_model('hr_employee_model.h5')\n",
    "print(\"Model loaded successfully!\")\n",
    "\n",
    "# Make predictions on new data\n",
    "# Example: predict on the first 5 test samples\n",
    "predictions = loaded_model.predict(X_test[:5])\n",
    "print(\"\\nPredictions (probability of leaving):\")\n",
    "for i, pred in enumerate(predictions):\n",
    "    prob = pred[0]\n",
    "    will_leave = \"Yes\" if prob > 0.5 else \"No\"\n",
    "    print(f\"Employee {i+1}: {prob:.4f} probability -> Will leave: {will_leave}\")\n",
    "\n",
    "# Compare with actual values\n",
    "print(\"\\nActual values:\")\n",
    "for i, actual in enumerate(y_test[:5]):\n",
    "    left = \"Yes\" if actual == 1 else \"No\"\n",
    "    print(f\"Employee {i+1}: Actually left: {left}\")"
   ]
  }
 ],
 "metadata": {
  "kernelspec": {
   "display_name": "ml-dl",
   "language": "python",
   "name": "python3"
  },
  "language_info": {
   "codemirror_mode": {
    "name": "ipython",
    "version": 3
   },
   "file_extension": ".py",
   "mimetype": "text/x-python",
   "name": "python",
   "nbconvert_exporter": "python",
   "pygments_lexer": "ipython3",
   "version": "3.11.13"
  }
 },
 "nbformat": 4,
 "nbformat_minor": 5
}
